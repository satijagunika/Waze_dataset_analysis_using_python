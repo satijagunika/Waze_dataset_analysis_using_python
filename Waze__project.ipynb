{
  "cells": [
    {
      "cell_type": "markdown",
      "metadata": {
        "id": "view-in-github",
        "colab_type": "text"
      },
      "source": [
        "<a href=\"https://colab.research.google.com/github/satijagunika/Waze_dataset_analysis_using_python/blob/main/Waze__project.ipynb\" target=\"_parent\"><img src=\"https://colab.research.google.com/assets/colab-badge.svg\" alt=\"Open In Colab\"/></a>"
      ]
    },
    {
      "cell_type": "code",
      "execution_count": 2,
      "metadata": {
        "id": "zYE9n3f-LJmC"
      },
      "outputs": [],
      "source": [
        "# Adding the required libraries\n",
        "import numpy as np\n",
        "import pandas as pd\n",
        "import matplotlib.pyplot as plt\n",
        "import seaborn as sns"
      ]
    },
    {
      "cell_type": "markdown",
      "metadata": {
        "id": "MsQ0j0BXLJmE"
      },
      "source": [
        "`Imported and analyzed Waze traffic data using Python's Pandas library from 'waze_dataset.csv'.`\n"
      ]
    },
    {
      "cell_type": "code",
      "execution_count": 3,
      "metadata": {
        "id": "wN-VWDxeLJmF"
      },
      "outputs": [],
      "source": [
        "df = pd.read_csv('/content/waze_dataset.csv')"
      ]
    },
    {
      "cell_type": "markdown",
      "metadata": {
        "id": "BlUrIR8eLJmF"
      },
      "source": [
        "**DATA OVERVIEW and SUMMARY STATISTICS**"
      ]
    },
    {
      "cell_type": "code",
      "execution_count": 4,
      "metadata": {
        "colab": {
          "base_uri": "https://localhost:8080/",
          "height": 383
        },
        "id": "SsucBUKMLJmF",
        "outputId": "ff231b80-22b4-4d7d-9c36-723d01c05954"
      },
      "outputs": [
        {
          "output_type": "execute_result",
          "data": {
            "text/plain": [
              "   ID     label  sessions  drives  total_sessions  n_days_after_onboarding  \\\n",
              "0   0  retained       283     226      296.748273                     2276   \n",
              "1   1  retained       133     107      326.896596                     1225   \n",
              "2   2  retained       114      95      135.522926                     2651   \n",
              "3   3  retained        49      40       67.589221                       15   \n",
              "4   4  retained        84      68      168.247020                     1562   \n",
              "5   5  retained       113     103      279.544437                     2637   \n",
              "6   6  retained         3       2      236.725314                      360   \n",
              "7   7  retained        39      35      176.072845                     2999   \n",
              "8   8  retained        57      46      183.532018                      424   \n",
              "9   9   churned        84      68      244.802115                     2997   \n",
              "\n",
              "   total_navigations_fav1  total_navigations_fav2  driven_km_drives  \\\n",
              "0                     208                       0       2628.845068   \n",
              "1                      19                      64      13715.920550   \n",
              "2                       0                       0       3059.148818   \n",
              "3                     322                       7        913.591123   \n",
              "4                     166                       5       3950.202008   \n",
              "5                       0                       0        901.238699   \n",
              "6                     185                      18       5249.172828   \n",
              "7                       0                       0       7892.052468   \n",
              "8                       0                      26       2651.709764   \n",
              "9                      72                       0       6043.460295   \n",
              "\n",
              "   duration_minutes_drives  activity_days  driving_days   device  \n",
              "0              1985.775061             28            19  Android  \n",
              "1              3160.472914             13            11   iPhone  \n",
              "2              1610.735904             14             8  Android  \n",
              "3               587.196542              7             3   iPhone  \n",
              "4              1219.555924             27            18  Android  \n",
              "5               439.101397             15            11   iPhone  \n",
              "6               726.577205             28            23   iPhone  \n",
              "7              2466.981741             22            20   iPhone  \n",
              "8              1594.342984             25            20  Android  \n",
              "9              2341.838528              7             3   iPhone  "
            ],
            "text/html": [
              "\n",
              "  <div id=\"df-a10be7c4-63d0-4e02-ac2c-9ede9d522bd2\" class=\"colab-df-container\">\n",
              "    <div>\n",
              "<style scoped>\n",
              "    .dataframe tbody tr th:only-of-type {\n",
              "        vertical-align: middle;\n",
              "    }\n",
              "\n",
              "    .dataframe tbody tr th {\n",
              "        vertical-align: top;\n",
              "    }\n",
              "\n",
              "    .dataframe thead th {\n",
              "        text-align: right;\n",
              "    }\n",
              "</style>\n",
              "<table border=\"1\" class=\"dataframe\">\n",
              "  <thead>\n",
              "    <tr style=\"text-align: right;\">\n",
              "      <th></th>\n",
              "      <th>ID</th>\n",
              "      <th>label</th>\n",
              "      <th>sessions</th>\n",
              "      <th>drives</th>\n",
              "      <th>total_sessions</th>\n",
              "      <th>n_days_after_onboarding</th>\n",
              "      <th>total_navigations_fav1</th>\n",
              "      <th>total_navigations_fav2</th>\n",
              "      <th>driven_km_drives</th>\n",
              "      <th>duration_minutes_drives</th>\n",
              "      <th>activity_days</th>\n",
              "      <th>driving_days</th>\n",
              "      <th>device</th>\n",
              "    </tr>\n",
              "  </thead>\n",
              "  <tbody>\n",
              "    <tr>\n",
              "      <th>0</th>\n",
              "      <td>0</td>\n",
              "      <td>retained</td>\n",
              "      <td>283</td>\n",
              "      <td>226</td>\n",
              "      <td>296.748273</td>\n",
              "      <td>2276</td>\n",
              "      <td>208</td>\n",
              "      <td>0</td>\n",
              "      <td>2628.845068</td>\n",
              "      <td>1985.775061</td>\n",
              "      <td>28</td>\n",
              "      <td>19</td>\n",
              "      <td>Android</td>\n",
              "    </tr>\n",
              "    <tr>\n",
              "      <th>1</th>\n",
              "      <td>1</td>\n",
              "      <td>retained</td>\n",
              "      <td>133</td>\n",
              "      <td>107</td>\n",
              "      <td>326.896596</td>\n",
              "      <td>1225</td>\n",
              "      <td>19</td>\n",
              "      <td>64</td>\n",
              "      <td>13715.920550</td>\n",
              "      <td>3160.472914</td>\n",
              "      <td>13</td>\n",
              "      <td>11</td>\n",
              "      <td>iPhone</td>\n",
              "    </tr>\n",
              "    <tr>\n",
              "      <th>2</th>\n",
              "      <td>2</td>\n",
              "      <td>retained</td>\n",
              "      <td>114</td>\n",
              "      <td>95</td>\n",
              "      <td>135.522926</td>\n",
              "      <td>2651</td>\n",
              "      <td>0</td>\n",
              "      <td>0</td>\n",
              "      <td>3059.148818</td>\n",
              "      <td>1610.735904</td>\n",
              "      <td>14</td>\n",
              "      <td>8</td>\n",
              "      <td>Android</td>\n",
              "    </tr>\n",
              "    <tr>\n",
              "      <th>3</th>\n",
              "      <td>3</td>\n",
              "      <td>retained</td>\n",
              "      <td>49</td>\n",
              "      <td>40</td>\n",
              "      <td>67.589221</td>\n",
              "      <td>15</td>\n",
              "      <td>322</td>\n",
              "      <td>7</td>\n",
              "      <td>913.591123</td>\n",
              "      <td>587.196542</td>\n",
              "      <td>7</td>\n",
              "      <td>3</td>\n",
              "      <td>iPhone</td>\n",
              "    </tr>\n",
              "    <tr>\n",
              "      <th>4</th>\n",
              "      <td>4</td>\n",
              "      <td>retained</td>\n",
              "      <td>84</td>\n",
              "      <td>68</td>\n",
              "      <td>168.247020</td>\n",
              "      <td>1562</td>\n",
              "      <td>166</td>\n",
              "      <td>5</td>\n",
              "      <td>3950.202008</td>\n",
              "      <td>1219.555924</td>\n",
              "      <td>27</td>\n",
              "      <td>18</td>\n",
              "      <td>Android</td>\n",
              "    </tr>\n",
              "    <tr>\n",
              "      <th>5</th>\n",
              "      <td>5</td>\n",
              "      <td>retained</td>\n",
              "      <td>113</td>\n",
              "      <td>103</td>\n",
              "      <td>279.544437</td>\n",
              "      <td>2637</td>\n",
              "      <td>0</td>\n",
              "      <td>0</td>\n",
              "      <td>901.238699</td>\n",
              "      <td>439.101397</td>\n",
              "      <td>15</td>\n",
              "      <td>11</td>\n",
              "      <td>iPhone</td>\n",
              "    </tr>\n",
              "    <tr>\n",
              "      <th>6</th>\n",
              "      <td>6</td>\n",
              "      <td>retained</td>\n",
              "      <td>3</td>\n",
              "      <td>2</td>\n",
              "      <td>236.725314</td>\n",
              "      <td>360</td>\n",
              "      <td>185</td>\n",
              "      <td>18</td>\n",
              "      <td>5249.172828</td>\n",
              "      <td>726.577205</td>\n",
              "      <td>28</td>\n",
              "      <td>23</td>\n",
              "      <td>iPhone</td>\n",
              "    </tr>\n",
              "    <tr>\n",
              "      <th>7</th>\n",
              "      <td>7</td>\n",
              "      <td>retained</td>\n",
              "      <td>39</td>\n",
              "      <td>35</td>\n",
              "      <td>176.072845</td>\n",
              "      <td>2999</td>\n",
              "      <td>0</td>\n",
              "      <td>0</td>\n",
              "      <td>7892.052468</td>\n",
              "      <td>2466.981741</td>\n",
              "      <td>22</td>\n",
              "      <td>20</td>\n",
              "      <td>iPhone</td>\n",
              "    </tr>\n",
              "    <tr>\n",
              "      <th>8</th>\n",
              "      <td>8</td>\n",
              "      <td>retained</td>\n",
              "      <td>57</td>\n",
              "      <td>46</td>\n",
              "      <td>183.532018</td>\n",
              "      <td>424</td>\n",
              "      <td>0</td>\n",
              "      <td>26</td>\n",
              "      <td>2651.709764</td>\n",
              "      <td>1594.342984</td>\n",
              "      <td>25</td>\n",
              "      <td>20</td>\n",
              "      <td>Android</td>\n",
              "    </tr>\n",
              "    <tr>\n",
              "      <th>9</th>\n",
              "      <td>9</td>\n",
              "      <td>churned</td>\n",
              "      <td>84</td>\n",
              "      <td>68</td>\n",
              "      <td>244.802115</td>\n",
              "      <td>2997</td>\n",
              "      <td>72</td>\n",
              "      <td>0</td>\n",
              "      <td>6043.460295</td>\n",
              "      <td>2341.838528</td>\n",
              "      <td>7</td>\n",
              "      <td>3</td>\n",
              "      <td>iPhone</td>\n",
              "    </tr>\n",
              "  </tbody>\n",
              "</table>\n",
              "</div>\n",
              "    <div class=\"colab-df-buttons\">\n",
              "\n",
              "  <div class=\"colab-df-container\">\n",
              "    <button class=\"colab-df-convert\" onclick=\"convertToInteractive('df-a10be7c4-63d0-4e02-ac2c-9ede9d522bd2')\"\n",
              "            title=\"Convert this dataframe to an interactive table.\"\n",
              "            style=\"display:none;\">\n",
              "\n",
              "  <svg xmlns=\"http://www.w3.org/2000/svg\" height=\"24px\" viewBox=\"0 -960 960 960\">\n",
              "    <path d=\"M120-120v-720h720v720H120Zm60-500h600v-160H180v160Zm220 220h160v-160H400v160Zm0 220h160v-160H400v160ZM180-400h160v-160H180v160Zm440 0h160v-160H620v160ZM180-180h160v-160H180v160Zm440 0h160v-160H620v160Z\"/>\n",
              "  </svg>\n",
              "    </button>\n",
              "\n",
              "  <style>\n",
              "    .colab-df-container {\n",
              "      display:flex;\n",
              "      gap: 12px;\n",
              "    }\n",
              "\n",
              "    .colab-df-convert {\n",
              "      background-color: #E8F0FE;\n",
              "      border: none;\n",
              "      border-radius: 50%;\n",
              "      cursor: pointer;\n",
              "      display: none;\n",
              "      fill: #1967D2;\n",
              "      height: 32px;\n",
              "      padding: 0 0 0 0;\n",
              "      width: 32px;\n",
              "    }\n",
              "\n",
              "    .colab-df-convert:hover {\n",
              "      background-color: #E2EBFA;\n",
              "      box-shadow: 0px 1px 2px rgba(60, 64, 67, 0.3), 0px 1px 3px 1px rgba(60, 64, 67, 0.15);\n",
              "      fill: #174EA6;\n",
              "    }\n",
              "\n",
              "    .colab-df-buttons div {\n",
              "      margin-bottom: 4px;\n",
              "    }\n",
              "\n",
              "    [theme=dark] .colab-df-convert {\n",
              "      background-color: #3B4455;\n",
              "      fill: #D2E3FC;\n",
              "    }\n",
              "\n",
              "    [theme=dark] .colab-df-convert:hover {\n",
              "      background-color: #434B5C;\n",
              "      box-shadow: 0px 1px 3px 1px rgba(0, 0, 0, 0.15);\n",
              "      filter: drop-shadow(0px 1px 2px rgba(0, 0, 0, 0.3));\n",
              "      fill: #FFFFFF;\n",
              "    }\n",
              "  </style>\n",
              "\n",
              "    <script>\n",
              "      const buttonEl =\n",
              "        document.querySelector('#df-a10be7c4-63d0-4e02-ac2c-9ede9d522bd2 button.colab-df-convert');\n",
              "      buttonEl.style.display =\n",
              "        google.colab.kernel.accessAllowed ? 'block' : 'none';\n",
              "\n",
              "      async function convertToInteractive(key) {\n",
              "        const element = document.querySelector('#df-a10be7c4-63d0-4e02-ac2c-9ede9d522bd2');\n",
              "        const dataTable =\n",
              "          await google.colab.kernel.invokeFunction('convertToInteractive',\n",
              "                                                    [key], {});\n",
              "        if (!dataTable) return;\n",
              "\n",
              "        const docLinkHtml = 'Like what you see? Visit the ' +\n",
              "          '<a target=\"_blank\" href=https://colab.research.google.com/notebooks/data_table.ipynb>data table notebook</a>'\n",
              "          + ' to learn more about interactive tables.';\n",
              "        element.innerHTML = '';\n",
              "        dataTable['output_type'] = 'display_data';\n",
              "        await google.colab.output.renderOutput(dataTable, element);\n",
              "        const docLink = document.createElement('div');\n",
              "        docLink.innerHTML = docLinkHtml;\n",
              "        element.appendChild(docLink);\n",
              "      }\n",
              "    </script>\n",
              "  </div>\n",
              "\n",
              "\n",
              "<div id=\"df-10fa0955-8546-477f-afdd-c14dfeec99b9\">\n",
              "  <button class=\"colab-df-quickchart\" onclick=\"quickchart('df-10fa0955-8546-477f-afdd-c14dfeec99b9')\"\n",
              "            title=\"Suggest charts\"\n",
              "            style=\"display:none;\">\n",
              "\n",
              "<svg xmlns=\"http://www.w3.org/2000/svg\" height=\"24px\"viewBox=\"0 0 24 24\"\n",
              "     width=\"24px\">\n",
              "    <g>\n",
              "        <path d=\"M19 3H5c-1.1 0-2 .9-2 2v14c0 1.1.9 2 2 2h14c1.1 0 2-.9 2-2V5c0-1.1-.9-2-2-2zM9 17H7v-7h2v7zm4 0h-2V7h2v10zm4 0h-2v-4h2v4z\"/>\n",
              "    </g>\n",
              "</svg>\n",
              "  </button>\n",
              "\n",
              "<style>\n",
              "  .colab-df-quickchart {\n",
              "      --bg-color: #E8F0FE;\n",
              "      --fill-color: #1967D2;\n",
              "      --hover-bg-color: #E2EBFA;\n",
              "      --hover-fill-color: #174EA6;\n",
              "      --disabled-fill-color: #AAA;\n",
              "      --disabled-bg-color: #DDD;\n",
              "  }\n",
              "\n",
              "  [theme=dark] .colab-df-quickchart {\n",
              "      --bg-color: #3B4455;\n",
              "      --fill-color: #D2E3FC;\n",
              "      --hover-bg-color: #434B5C;\n",
              "      --hover-fill-color: #FFFFFF;\n",
              "      --disabled-bg-color: #3B4455;\n",
              "      --disabled-fill-color: #666;\n",
              "  }\n",
              "\n",
              "  .colab-df-quickchart {\n",
              "    background-color: var(--bg-color);\n",
              "    border: none;\n",
              "    border-radius: 50%;\n",
              "    cursor: pointer;\n",
              "    display: none;\n",
              "    fill: var(--fill-color);\n",
              "    height: 32px;\n",
              "    padding: 0;\n",
              "    width: 32px;\n",
              "  }\n",
              "\n",
              "  .colab-df-quickchart:hover {\n",
              "    background-color: var(--hover-bg-color);\n",
              "    box-shadow: 0 1px 2px rgba(60, 64, 67, 0.3), 0 1px 3px 1px rgba(60, 64, 67, 0.15);\n",
              "    fill: var(--button-hover-fill-color);\n",
              "  }\n",
              "\n",
              "  .colab-df-quickchart-complete:disabled,\n",
              "  .colab-df-quickchart-complete:disabled:hover {\n",
              "    background-color: var(--disabled-bg-color);\n",
              "    fill: var(--disabled-fill-color);\n",
              "    box-shadow: none;\n",
              "  }\n",
              "\n",
              "  .colab-df-spinner {\n",
              "    border: 2px solid var(--fill-color);\n",
              "    border-color: transparent;\n",
              "    border-bottom-color: var(--fill-color);\n",
              "    animation:\n",
              "      spin 1s steps(1) infinite;\n",
              "  }\n",
              "\n",
              "  @keyframes spin {\n",
              "    0% {\n",
              "      border-color: transparent;\n",
              "      border-bottom-color: var(--fill-color);\n",
              "      border-left-color: var(--fill-color);\n",
              "    }\n",
              "    20% {\n",
              "      border-color: transparent;\n",
              "      border-left-color: var(--fill-color);\n",
              "      border-top-color: var(--fill-color);\n",
              "    }\n",
              "    30% {\n",
              "      border-color: transparent;\n",
              "      border-left-color: var(--fill-color);\n",
              "      border-top-color: var(--fill-color);\n",
              "      border-right-color: var(--fill-color);\n",
              "    }\n",
              "    40% {\n",
              "      border-color: transparent;\n",
              "      border-right-color: var(--fill-color);\n",
              "      border-top-color: var(--fill-color);\n",
              "    }\n",
              "    60% {\n",
              "      border-color: transparent;\n",
              "      border-right-color: var(--fill-color);\n",
              "    }\n",
              "    80% {\n",
              "      border-color: transparent;\n",
              "      border-right-color: var(--fill-color);\n",
              "      border-bottom-color: var(--fill-color);\n",
              "    }\n",
              "    90% {\n",
              "      border-color: transparent;\n",
              "      border-bottom-color: var(--fill-color);\n",
              "    }\n",
              "  }\n",
              "</style>\n",
              "\n",
              "  <script>\n",
              "    async function quickchart(key) {\n",
              "      const quickchartButtonEl =\n",
              "        document.querySelector('#' + key + ' button');\n",
              "      quickchartButtonEl.disabled = true;  // To prevent multiple clicks.\n",
              "      quickchartButtonEl.classList.add('colab-df-spinner');\n",
              "      try {\n",
              "        const charts = await google.colab.kernel.invokeFunction(\n",
              "            'suggestCharts', [key], {});\n",
              "      } catch (error) {\n",
              "        console.error('Error during call to suggestCharts:', error);\n",
              "      }\n",
              "      quickchartButtonEl.classList.remove('colab-df-spinner');\n",
              "      quickchartButtonEl.classList.add('colab-df-quickchart-complete');\n",
              "    }\n",
              "    (() => {\n",
              "      let quickchartButtonEl =\n",
              "        document.querySelector('#df-10fa0955-8546-477f-afdd-c14dfeec99b9 button');\n",
              "      quickchartButtonEl.style.display =\n",
              "        google.colab.kernel.accessAllowed ? 'block' : 'none';\n",
              "    })();\n",
              "  </script>\n",
              "</div>\n",
              "\n",
              "    </div>\n",
              "  </div>\n"
            ],
            "application/vnd.google.colaboratory.intrinsic+json": {
              "type": "dataframe",
              "variable_name": "df",
              "summary": "{\n  \"name\": \"df\",\n  \"rows\": 14999,\n  \"fields\": [\n    {\n      \"column\": \"ID\",\n      \"properties\": {\n        \"dtype\": \"number\",\n        \"std\": 4329,\n        \"min\": 0,\n        \"max\": 14998,\n        \"num_unique_values\": 14999,\n        \"samples\": [\n          6723,\n          6473,\n          4679\n        ],\n        \"semantic_type\": \"\",\n        \"description\": \"\"\n      }\n    },\n    {\n      \"column\": \"label\",\n      \"properties\": {\n        \"dtype\": \"category\",\n        \"num_unique_values\": 2,\n        \"samples\": [\n          \"churned\",\n          \"retained\"\n        ],\n        \"semantic_type\": \"\",\n        \"description\": \"\"\n      }\n    },\n    {\n      \"column\": \"sessions\",\n      \"properties\": {\n        \"dtype\": \"number\",\n        \"std\": 80,\n        \"min\": 0,\n        \"max\": 743,\n        \"num_unique_values\": 469,\n        \"samples\": [\n          142,\n          56\n        ],\n        \"semantic_type\": \"\",\n        \"description\": \"\"\n      }\n    },\n    {\n      \"column\": \"drives\",\n      \"properties\": {\n        \"dtype\": \"number\",\n        \"std\": 65,\n        \"min\": 0,\n        \"max\": 596,\n        \"num_unique_values\": 401,\n        \"samples\": [\n          189,\n          432\n        ],\n        \"semantic_type\": \"\",\n        \"description\": \"\"\n      }\n    },\n    {\n      \"column\": \"total_sessions\",\n      \"properties\": {\n        \"dtype\": \"number\",\n        \"std\": 136.40512847760343,\n        \"min\": 0.2202109438,\n        \"max\": 1216.154633,\n        \"num_unique_values\": 14999,\n        \"samples\": [\n          193.0569446,\n          158.7964088\n        ],\n        \"semantic_type\": \"\",\n        \"description\": \"\"\n      }\n    },\n    {\n      \"column\": \"n_days_after_onboarding\",\n      \"properties\": {\n        \"dtype\": \"number\",\n        \"std\": 1008,\n        \"min\": 4,\n        \"max\": 3500,\n        \"num_unique_values\": 3441,\n        \"samples\": [\n          2332,\n          1713\n        ],\n        \"semantic_type\": \"\",\n        \"description\": \"\"\n      }\n    },\n    {\n      \"column\": \"total_navigations_fav1\",\n      \"properties\": {\n        \"dtype\": \"number\",\n        \"std\": 148,\n        \"min\": 0,\n        \"max\": 1236,\n        \"num_unique_values\": 730,\n        \"samples\": [\n          449,\n          266\n        ],\n        \"semantic_type\": \"\",\n        \"description\": \"\"\n      }\n    },\n    {\n      \"column\": \"total_navigations_fav2\",\n      \"properties\": {\n        \"dtype\": \"number\",\n        \"std\": 45,\n        \"min\": 0,\n        \"max\": 415,\n        \"num_unique_values\": 287,\n        \"samples\": [\n          19,\n          170\n        ],\n        \"semantic_type\": \"\",\n        \"description\": \"\"\n      }\n    },\n    {\n      \"column\": \"driven_km_drives\",\n      \"properties\": {\n        \"dtype\": \"number\",\n        \"std\": 2502.1493337964916,\n        \"min\": 60.44125046,\n        \"max\": 21183.40189,\n        \"num_unique_values\": 14999,\n        \"samples\": [\n          4344.360643,\n          1233.677809\n        ],\n        \"semantic_type\": \"\",\n        \"description\": \"\"\n      }\n    },\n    {\n      \"column\": \"duration_minutes_drives\",\n      \"properties\": {\n        \"dtype\": \"number\",\n        \"std\": 1446.702287563326,\n        \"min\": 18.28208247,\n        \"max\": 15851.72716,\n        \"num_unique_values\": 14999,\n        \"samples\": [\n          2264.211324,\n          731.9878865\n        ],\n        \"semantic_type\": \"\",\n        \"description\": \"\"\n      }\n    },\n    {\n      \"column\": \"activity_days\",\n      \"properties\": {\n        \"dtype\": \"number\",\n        \"std\": 9,\n        \"min\": 0,\n        \"max\": 31,\n        \"num_unique_values\": 32,\n        \"samples\": [\n          3,\n          21\n        ],\n        \"semantic_type\": \"\",\n        \"description\": \"\"\n      }\n    },\n    {\n      \"column\": \"driving_days\",\n      \"properties\": {\n        \"dtype\": \"number\",\n        \"std\": 7,\n        \"min\": 0,\n        \"max\": 30,\n        \"num_unique_values\": 31,\n        \"samples\": [\n          27,\n          16\n        ],\n        \"semantic_type\": \"\",\n        \"description\": \"\"\n      }\n    },\n    {\n      \"column\": \"device\",\n      \"properties\": {\n        \"dtype\": \"category\",\n        \"num_unique_values\": 2,\n        \"samples\": [\n          \"iPhone\",\n          \"Android\"\n        ],\n        \"semantic_type\": \"\",\n        \"description\": \"\"\n      }\n    }\n  ]\n}"
            }
          },
          "metadata": {},
          "execution_count": 4
        }
      ],
      "source": [
        "# Displaying the First 10 Rows of the DataFrame\n",
        "df.head(10)"
      ]
    },
    {
      "cell_type": "code",
      "execution_count": 5,
      "metadata": {
        "colab": {
          "base_uri": "https://localhost:8080/"
        },
        "id": "V1jL4gigLJmG",
        "outputId": "a4b9ded3-1b73-40a7-b5a0-7265b0207ee1"
      },
      "outputs": [
        {
          "output_type": "execute_result",
          "data": {
            "text/plain": [
              "194987"
            ]
          },
          "metadata": {},
          "execution_count": 5
        }
      ],
      "source": [
        "# Getting the Size of the DataFrame\n",
        "df.size"
      ]
    },
    {
      "cell_type": "code",
      "execution_count": 6,
      "metadata": {
        "colab": {
          "base_uri": "https://localhost:8080/",
          "height": 320
        },
        "id": "VMd78MAMLJmH",
        "outputId": "694433f9-f978-4f3f-89e2-1666eb8917c8"
      },
      "outputs": [
        {
          "output_type": "execute_result",
          "data": {
            "text/plain": [
              "                 ID      sessions        drives  total_sessions  \\\n",
              "count  14999.000000  14999.000000  14999.000000    14999.000000   \n",
              "mean    7499.000000     80.633776     67.281152      189.964447   \n",
              "std     4329.982679     80.699065     65.913872      136.405128   \n",
              "min        0.000000      0.000000      0.000000        0.220211   \n",
              "25%     3749.500000     23.000000     20.000000       90.661156   \n",
              "50%     7499.000000     56.000000     48.000000      159.568115   \n",
              "75%    11248.500000    112.000000     93.000000      254.192341   \n",
              "max    14998.000000    743.000000    596.000000     1216.154633   \n",
              "\n",
              "       n_days_after_onboarding  total_navigations_fav1  \\\n",
              "count             14999.000000            14999.000000   \n",
              "mean               1749.837789              121.605974   \n",
              "std                1008.513876              148.121544   \n",
              "min                   4.000000                0.000000   \n",
              "25%                 878.000000                9.000000   \n",
              "50%                1741.000000               71.000000   \n",
              "75%                2623.500000              178.000000   \n",
              "max                3500.000000             1236.000000   \n",
              "\n",
              "       total_navigations_fav2  driven_km_drives  duration_minutes_drives  \\\n",
              "count            14999.000000      14999.000000             14999.000000   \n",
              "mean                29.672512       4039.340921              1860.976012   \n",
              "std                 45.394651       2502.149334              1446.702288   \n",
              "min                  0.000000         60.441250                18.282082   \n",
              "25%                  0.000000       2212.600607               835.996260   \n",
              "50%                  9.000000       3493.858085              1478.249859   \n",
              "75%                 43.000000       5289.861262              2464.362632   \n",
              "max                415.000000      21183.401890             15851.727160   \n",
              "\n",
              "       activity_days  driving_days  \n",
              "count   14999.000000  14999.000000  \n",
              "mean       15.537102     12.179879  \n",
              "std         9.004655      7.824036  \n",
              "min         0.000000      0.000000  \n",
              "25%         8.000000      5.000000  \n",
              "50%        16.000000     12.000000  \n",
              "75%        23.000000     19.000000  \n",
              "max        31.000000     30.000000  "
            ],
            "text/html": [
              "\n",
              "  <div id=\"df-8eb11a38-c1d8-402a-93d2-20b4a709b8ae\" class=\"colab-df-container\">\n",
              "    <div>\n",
              "<style scoped>\n",
              "    .dataframe tbody tr th:only-of-type {\n",
              "        vertical-align: middle;\n",
              "    }\n",
              "\n",
              "    .dataframe tbody tr th {\n",
              "        vertical-align: top;\n",
              "    }\n",
              "\n",
              "    .dataframe thead th {\n",
              "        text-align: right;\n",
              "    }\n",
              "</style>\n",
              "<table border=\"1\" class=\"dataframe\">\n",
              "  <thead>\n",
              "    <tr style=\"text-align: right;\">\n",
              "      <th></th>\n",
              "      <th>ID</th>\n",
              "      <th>sessions</th>\n",
              "      <th>drives</th>\n",
              "      <th>total_sessions</th>\n",
              "      <th>n_days_after_onboarding</th>\n",
              "      <th>total_navigations_fav1</th>\n",
              "      <th>total_navigations_fav2</th>\n",
              "      <th>driven_km_drives</th>\n",
              "      <th>duration_minutes_drives</th>\n",
              "      <th>activity_days</th>\n",
              "      <th>driving_days</th>\n",
              "    </tr>\n",
              "  </thead>\n",
              "  <tbody>\n",
              "    <tr>\n",
              "      <th>count</th>\n",
              "      <td>14999.000000</td>\n",
              "      <td>14999.000000</td>\n",
              "      <td>14999.000000</td>\n",
              "      <td>14999.000000</td>\n",
              "      <td>14999.000000</td>\n",
              "      <td>14999.000000</td>\n",
              "      <td>14999.000000</td>\n",
              "      <td>14999.000000</td>\n",
              "      <td>14999.000000</td>\n",
              "      <td>14999.000000</td>\n",
              "      <td>14999.000000</td>\n",
              "    </tr>\n",
              "    <tr>\n",
              "      <th>mean</th>\n",
              "      <td>7499.000000</td>\n",
              "      <td>80.633776</td>\n",
              "      <td>67.281152</td>\n",
              "      <td>189.964447</td>\n",
              "      <td>1749.837789</td>\n",
              "      <td>121.605974</td>\n",
              "      <td>29.672512</td>\n",
              "      <td>4039.340921</td>\n",
              "      <td>1860.976012</td>\n",
              "      <td>15.537102</td>\n",
              "      <td>12.179879</td>\n",
              "    </tr>\n",
              "    <tr>\n",
              "      <th>std</th>\n",
              "      <td>4329.982679</td>\n",
              "      <td>80.699065</td>\n",
              "      <td>65.913872</td>\n",
              "      <td>136.405128</td>\n",
              "      <td>1008.513876</td>\n",
              "      <td>148.121544</td>\n",
              "      <td>45.394651</td>\n",
              "      <td>2502.149334</td>\n",
              "      <td>1446.702288</td>\n",
              "      <td>9.004655</td>\n",
              "      <td>7.824036</td>\n",
              "    </tr>\n",
              "    <tr>\n",
              "      <th>min</th>\n",
              "      <td>0.000000</td>\n",
              "      <td>0.000000</td>\n",
              "      <td>0.000000</td>\n",
              "      <td>0.220211</td>\n",
              "      <td>4.000000</td>\n",
              "      <td>0.000000</td>\n",
              "      <td>0.000000</td>\n",
              "      <td>60.441250</td>\n",
              "      <td>18.282082</td>\n",
              "      <td>0.000000</td>\n",
              "      <td>0.000000</td>\n",
              "    </tr>\n",
              "    <tr>\n",
              "      <th>25%</th>\n",
              "      <td>3749.500000</td>\n",
              "      <td>23.000000</td>\n",
              "      <td>20.000000</td>\n",
              "      <td>90.661156</td>\n",
              "      <td>878.000000</td>\n",
              "      <td>9.000000</td>\n",
              "      <td>0.000000</td>\n",
              "      <td>2212.600607</td>\n",
              "      <td>835.996260</td>\n",
              "      <td>8.000000</td>\n",
              "      <td>5.000000</td>\n",
              "    </tr>\n",
              "    <tr>\n",
              "      <th>50%</th>\n",
              "      <td>7499.000000</td>\n",
              "      <td>56.000000</td>\n",
              "      <td>48.000000</td>\n",
              "      <td>159.568115</td>\n",
              "      <td>1741.000000</td>\n",
              "      <td>71.000000</td>\n",
              "      <td>9.000000</td>\n",
              "      <td>3493.858085</td>\n",
              "      <td>1478.249859</td>\n",
              "      <td>16.000000</td>\n",
              "      <td>12.000000</td>\n",
              "    </tr>\n",
              "    <tr>\n",
              "      <th>75%</th>\n",
              "      <td>11248.500000</td>\n",
              "      <td>112.000000</td>\n",
              "      <td>93.000000</td>\n",
              "      <td>254.192341</td>\n",
              "      <td>2623.500000</td>\n",
              "      <td>178.000000</td>\n",
              "      <td>43.000000</td>\n",
              "      <td>5289.861262</td>\n",
              "      <td>2464.362632</td>\n",
              "      <td>23.000000</td>\n",
              "      <td>19.000000</td>\n",
              "    </tr>\n",
              "    <tr>\n",
              "      <th>max</th>\n",
              "      <td>14998.000000</td>\n",
              "      <td>743.000000</td>\n",
              "      <td>596.000000</td>\n",
              "      <td>1216.154633</td>\n",
              "      <td>3500.000000</td>\n",
              "      <td>1236.000000</td>\n",
              "      <td>415.000000</td>\n",
              "      <td>21183.401890</td>\n",
              "      <td>15851.727160</td>\n",
              "      <td>31.000000</td>\n",
              "      <td>30.000000</td>\n",
              "    </tr>\n",
              "  </tbody>\n",
              "</table>\n",
              "</div>\n",
              "    <div class=\"colab-df-buttons\">\n",
              "\n",
              "  <div class=\"colab-df-container\">\n",
              "    <button class=\"colab-df-convert\" onclick=\"convertToInteractive('df-8eb11a38-c1d8-402a-93d2-20b4a709b8ae')\"\n",
              "            title=\"Convert this dataframe to an interactive table.\"\n",
              "            style=\"display:none;\">\n",
              "\n",
              "  <svg xmlns=\"http://www.w3.org/2000/svg\" height=\"24px\" viewBox=\"0 -960 960 960\">\n",
              "    <path d=\"M120-120v-720h720v720H120Zm60-500h600v-160H180v160Zm220 220h160v-160H400v160Zm0 220h160v-160H400v160ZM180-400h160v-160H180v160Zm440 0h160v-160H620v160ZM180-180h160v-160H180v160Zm440 0h160v-160H620v160Z\"/>\n",
              "  </svg>\n",
              "    </button>\n",
              "\n",
              "  <style>\n",
              "    .colab-df-container {\n",
              "      display:flex;\n",
              "      gap: 12px;\n",
              "    }\n",
              "\n",
              "    .colab-df-convert {\n",
              "      background-color: #E8F0FE;\n",
              "      border: none;\n",
              "      border-radius: 50%;\n",
              "      cursor: pointer;\n",
              "      display: none;\n",
              "      fill: #1967D2;\n",
              "      height: 32px;\n",
              "      padding: 0 0 0 0;\n",
              "      width: 32px;\n",
              "    }\n",
              "\n",
              "    .colab-df-convert:hover {\n",
              "      background-color: #E2EBFA;\n",
              "      box-shadow: 0px 1px 2px rgba(60, 64, 67, 0.3), 0px 1px 3px 1px rgba(60, 64, 67, 0.15);\n",
              "      fill: #174EA6;\n",
              "    }\n",
              "\n",
              "    .colab-df-buttons div {\n",
              "      margin-bottom: 4px;\n",
              "    }\n",
              "\n",
              "    [theme=dark] .colab-df-convert {\n",
              "      background-color: #3B4455;\n",
              "      fill: #D2E3FC;\n",
              "    }\n",
              "\n",
              "    [theme=dark] .colab-df-convert:hover {\n",
              "      background-color: #434B5C;\n",
              "      box-shadow: 0px 1px 3px 1px rgba(0, 0, 0, 0.15);\n",
              "      filter: drop-shadow(0px 1px 2px rgba(0, 0, 0, 0.3));\n",
              "      fill: #FFFFFF;\n",
              "    }\n",
              "  </style>\n",
              "\n",
              "    <script>\n",
              "      const buttonEl =\n",
              "        document.querySelector('#df-8eb11a38-c1d8-402a-93d2-20b4a709b8ae button.colab-df-convert');\n",
              "      buttonEl.style.display =\n",
              "        google.colab.kernel.accessAllowed ? 'block' : 'none';\n",
              "\n",
              "      async function convertToInteractive(key) {\n",
              "        const element = document.querySelector('#df-8eb11a38-c1d8-402a-93d2-20b4a709b8ae');\n",
              "        const dataTable =\n",
              "          await google.colab.kernel.invokeFunction('convertToInteractive',\n",
              "                                                    [key], {});\n",
              "        if (!dataTable) return;\n",
              "\n",
              "        const docLinkHtml = 'Like what you see? Visit the ' +\n",
              "          '<a target=\"_blank\" href=https://colab.research.google.com/notebooks/data_table.ipynb>data table notebook</a>'\n",
              "          + ' to learn more about interactive tables.';\n",
              "        element.innerHTML = '';\n",
              "        dataTable['output_type'] = 'display_data';\n",
              "        await google.colab.output.renderOutput(dataTable, element);\n",
              "        const docLink = document.createElement('div');\n",
              "        docLink.innerHTML = docLinkHtml;\n",
              "        element.appendChild(docLink);\n",
              "      }\n",
              "    </script>\n",
              "  </div>\n",
              "\n",
              "\n",
              "<div id=\"df-68b5dc66-38ed-4a8a-a13d-e85546ec1056\">\n",
              "  <button class=\"colab-df-quickchart\" onclick=\"quickchart('df-68b5dc66-38ed-4a8a-a13d-e85546ec1056')\"\n",
              "            title=\"Suggest charts\"\n",
              "            style=\"display:none;\">\n",
              "\n",
              "<svg xmlns=\"http://www.w3.org/2000/svg\" height=\"24px\"viewBox=\"0 0 24 24\"\n",
              "     width=\"24px\">\n",
              "    <g>\n",
              "        <path d=\"M19 3H5c-1.1 0-2 .9-2 2v14c0 1.1.9 2 2 2h14c1.1 0 2-.9 2-2V5c0-1.1-.9-2-2-2zM9 17H7v-7h2v7zm4 0h-2V7h2v10zm4 0h-2v-4h2v4z\"/>\n",
              "    </g>\n",
              "</svg>\n",
              "  </button>\n",
              "\n",
              "<style>\n",
              "  .colab-df-quickchart {\n",
              "      --bg-color: #E8F0FE;\n",
              "      --fill-color: #1967D2;\n",
              "      --hover-bg-color: #E2EBFA;\n",
              "      --hover-fill-color: #174EA6;\n",
              "      --disabled-fill-color: #AAA;\n",
              "      --disabled-bg-color: #DDD;\n",
              "  }\n",
              "\n",
              "  [theme=dark] .colab-df-quickchart {\n",
              "      --bg-color: #3B4455;\n",
              "      --fill-color: #D2E3FC;\n",
              "      --hover-bg-color: #434B5C;\n",
              "      --hover-fill-color: #FFFFFF;\n",
              "      --disabled-bg-color: #3B4455;\n",
              "      --disabled-fill-color: #666;\n",
              "  }\n",
              "\n",
              "  .colab-df-quickchart {\n",
              "    background-color: var(--bg-color);\n",
              "    border: none;\n",
              "    border-radius: 50%;\n",
              "    cursor: pointer;\n",
              "    display: none;\n",
              "    fill: var(--fill-color);\n",
              "    height: 32px;\n",
              "    padding: 0;\n",
              "    width: 32px;\n",
              "  }\n",
              "\n",
              "  .colab-df-quickchart:hover {\n",
              "    background-color: var(--hover-bg-color);\n",
              "    box-shadow: 0 1px 2px rgba(60, 64, 67, 0.3), 0 1px 3px 1px rgba(60, 64, 67, 0.15);\n",
              "    fill: var(--button-hover-fill-color);\n",
              "  }\n",
              "\n",
              "  .colab-df-quickchart-complete:disabled,\n",
              "  .colab-df-quickchart-complete:disabled:hover {\n",
              "    background-color: var(--disabled-bg-color);\n",
              "    fill: var(--disabled-fill-color);\n",
              "    box-shadow: none;\n",
              "  }\n",
              "\n",
              "  .colab-df-spinner {\n",
              "    border: 2px solid var(--fill-color);\n",
              "    border-color: transparent;\n",
              "    border-bottom-color: var(--fill-color);\n",
              "    animation:\n",
              "      spin 1s steps(1) infinite;\n",
              "  }\n",
              "\n",
              "  @keyframes spin {\n",
              "    0% {\n",
              "      border-color: transparent;\n",
              "      border-bottom-color: var(--fill-color);\n",
              "      border-left-color: var(--fill-color);\n",
              "    }\n",
              "    20% {\n",
              "      border-color: transparent;\n",
              "      border-left-color: var(--fill-color);\n",
              "      border-top-color: var(--fill-color);\n",
              "    }\n",
              "    30% {\n",
              "      border-color: transparent;\n",
              "      border-left-color: var(--fill-color);\n",
              "      border-top-color: var(--fill-color);\n",
              "      border-right-color: var(--fill-color);\n",
              "    }\n",
              "    40% {\n",
              "      border-color: transparent;\n",
              "      border-right-color: var(--fill-color);\n",
              "      border-top-color: var(--fill-color);\n",
              "    }\n",
              "    60% {\n",
              "      border-color: transparent;\n",
              "      border-right-color: var(--fill-color);\n",
              "    }\n",
              "    80% {\n",
              "      border-color: transparent;\n",
              "      border-right-color: var(--fill-color);\n",
              "      border-bottom-color: var(--fill-color);\n",
              "    }\n",
              "    90% {\n",
              "      border-color: transparent;\n",
              "      border-bottom-color: var(--fill-color);\n",
              "    }\n",
              "  }\n",
              "</style>\n",
              "\n",
              "  <script>\n",
              "    async function quickchart(key) {\n",
              "      const quickchartButtonEl =\n",
              "        document.querySelector('#' + key + ' button');\n",
              "      quickchartButtonEl.disabled = true;  // To prevent multiple clicks.\n",
              "      quickchartButtonEl.classList.add('colab-df-spinner');\n",
              "      try {\n",
              "        const charts = await google.colab.kernel.invokeFunction(\n",
              "            'suggestCharts', [key], {});\n",
              "      } catch (error) {\n",
              "        console.error('Error during call to suggestCharts:', error);\n",
              "      }\n",
              "      quickchartButtonEl.classList.remove('colab-df-spinner');\n",
              "      quickchartButtonEl.classList.add('colab-df-quickchart-complete');\n",
              "    }\n",
              "    (() => {\n",
              "      let quickchartButtonEl =\n",
              "        document.querySelector('#df-68b5dc66-38ed-4a8a-a13d-e85546ec1056 button');\n",
              "      quickchartButtonEl.style.display =\n",
              "        google.colab.kernel.accessAllowed ? 'block' : 'none';\n",
              "    })();\n",
              "  </script>\n",
              "</div>\n",
              "\n",
              "    </div>\n",
              "  </div>\n"
            ],
            "application/vnd.google.colaboratory.intrinsic+json": {
              "type": "dataframe",
              "summary": "{\n  \"name\": \"df\",\n  \"rows\": 8,\n  \"fields\": [\n    {\n      \"column\": \"ID\",\n      \"properties\": {\n        \"dtype\": \"number\",\n        \"std\": 5405.493196877867,\n        \"min\": 0.0,\n        \"max\": 14999.0,\n        \"num_unique_values\": 7,\n        \"samples\": [\n          14999.0,\n          7499.0,\n          11248.5\n        ],\n        \"semantic_type\": \"\",\n        \"description\": \"\"\n      }\n    },\n    {\n      \"column\": \"sessions\",\n      \"properties\": {\n        \"dtype\": \"number\",\n        \"std\": 5253.200785473647,\n        \"min\": 0.0,\n        \"max\": 14999.0,\n        \"num_unique_values\": 8,\n        \"samples\": [\n          80.633775585039,\n          56.0,\n          14999.0\n        ],\n        \"semantic_type\": \"\",\n        \"description\": \"\"\n      }\n    },\n    {\n      \"column\": \"drives\",\n      \"properties\": {\n        \"dtype\": \"number\",\n        \"std\": 5261.546847189585,\n        \"min\": 0.0,\n        \"max\": 14999.0,\n        \"num_unique_values\": 8,\n        \"samples\": [\n          67.28115207680511,\n          48.0,\n          14999.0\n        ],\n        \"semantic_type\": \"\",\n        \"description\": \"\"\n      }\n    },\n    {\n      \"column\": \"total_sessions\",\n      \"properties\": {\n        \"dtype\": \"number\",\n        \"std\": 5213.725691726808,\n        \"min\": 0.2202109438,\n        \"max\": 14999.0,\n        \"num_unique_values\": 8,\n        \"samples\": [\n          189.9644468240468,\n          159.5681147,\n          14999.0\n        ],\n        \"semantic_type\": \"\",\n        \"description\": \"\"\n      }\n    },\n    {\n      \"column\": \"n_days_after_onboarding\",\n      \"properties\": {\n        \"dtype\": \"number\",\n        \"std\": 4842.9182117475775,\n        \"min\": 4.0,\n        \"max\": 14999.0,\n        \"num_unique_values\": 8,\n        \"samples\": [\n          1749.8377891859457,\n          1741.0,\n          14999.0\n        ],\n        \"semantic_type\": \"\",\n        \"description\": \"\"\n      }\n    },\n    {\n      \"column\": \"total_navigations_fav1\",\n      \"properties\": {\n        \"dtype\": \"number\",\n        \"std\": 5229.689990496429,\n        \"min\": 0.0,\n        \"max\": 14999.0,\n        \"num_unique_values\": 8,\n        \"samples\": [\n          121.60597373158211,\n          71.0,\n          14999.0\n        ],\n        \"semantic_type\": \"\",\n        \"description\": \"\"\n      }\n    },\n    {\n      \"column\": \"total_navigations_fav2\",\n      \"properties\": {\n        \"dtype\": \"number\",\n        \"std\": 5277.397912183456,\n        \"min\": 0.0,\n        \"max\": 14999.0,\n        \"num_unique_values\": 7,\n        \"samples\": [\n          14999.0,\n          29.672511500766717,\n          43.0\n        ],\n        \"semantic_type\": \"\",\n        \"description\": \"\"\n      }\n    },\n    {\n      \"column\": \"driven_km_drives\",\n      \"properties\": {\n        \"dtype\": \"number\",\n        \"std\": 7366.212825651069,\n        \"min\": 60.44125046,\n        \"max\": 21183.40189,\n        \"num_unique_values\": 8,\n        \"samples\": [\n          4039.3409208164917,\n          3493.858085,\n          14999.0\n        ],\n        \"semantic_type\": \"\",\n        \"description\": \"\"\n      }\n    },\n    {\n      \"column\": \"duration_minutes_drives\",\n      \"properties\": {\n        \"dtype\": \"number\",\n        \"std\": 6558.218130497939,\n        \"min\": 18.28208247,\n        \"max\": 15851.72716,\n        \"num_unique_values\": 8,\n        \"samples\": [\n          1860.976012129396,\n          1478.249859,\n          14999.0\n        ],\n        \"semantic_type\": \"\",\n        \"description\": \"\"\n      }\n    },\n    {\n      \"column\": \"activity_days\",\n      \"properties\": {\n        \"dtype\": \"number\",\n        \"std\": 5297.776663745072,\n        \"min\": 0.0,\n        \"max\": 14999.0,\n        \"num_unique_values\": 8,\n        \"samples\": [\n          15.537102473498233,\n          16.0,\n          14999.0\n        ],\n        \"semantic_type\": \"\",\n        \"description\": \"\"\n      }\n    },\n    {\n      \"column\": \"driving_days\",\n      \"properties\": {\n        \"dtype\": \"number\",\n        \"std\": 5298.6113096650015,\n        \"min\": 0.0,\n        \"max\": 14999.0,\n        \"num_unique_values\": 8,\n        \"samples\": [\n          12.179878658577238,\n          12.0,\n          14999.0\n        ],\n        \"semantic_type\": \"\",\n        \"description\": \"\"\n      }\n    }\n  ]\n}"
            }
          },
          "metadata": {},
          "execution_count": 6
        }
      ],
      "source": [
        "# Summary Statistics of the DataFrame\n",
        "df.describe()"
      ]
    },
    {
      "cell_type": "code",
      "execution_count": 7,
      "metadata": {
        "colab": {
          "base_uri": "https://localhost:8080/"
        },
        "id": "gezozb-MLJmH",
        "outputId": "240dffb4-5b7d-4094-9ace-da0d015a2530"
      },
      "outputs": [
        {
          "output_type": "stream",
          "name": "stdout",
          "text": [
            "<class 'pandas.core.frame.DataFrame'>\n",
            "RangeIndex: 14999 entries, 0 to 14998\n",
            "Data columns (total 13 columns):\n",
            " #   Column                   Non-Null Count  Dtype  \n",
            "---  ------                   --------------  -----  \n",
            " 0   ID                       14999 non-null  int64  \n",
            " 1   label                    14299 non-null  object \n",
            " 2   sessions                 14999 non-null  int64  \n",
            " 3   drives                   14999 non-null  int64  \n",
            " 4   total_sessions           14999 non-null  float64\n",
            " 5   n_days_after_onboarding  14999 non-null  int64  \n",
            " 6   total_navigations_fav1   14999 non-null  int64  \n",
            " 7   total_navigations_fav2   14999 non-null  int64  \n",
            " 8   driven_km_drives         14999 non-null  float64\n",
            " 9   duration_minutes_drives  14999 non-null  float64\n",
            " 10  activity_days            14999 non-null  int64  \n",
            " 11  driving_days             14999 non-null  int64  \n",
            " 12  device                   14999 non-null  object \n",
            "dtypes: float64(3), int64(8), object(2)\n",
            "memory usage: 1.5+ MB\n"
          ]
        }
      ],
      "source": [
        "# DataFrame Information Summary\n",
        "df.info()"
      ]
    },
    {
      "cell_type": "markdown",
      "metadata": {
        "id": "-tc7l1sdLJmI"
      },
      "source": [
        "***DATA VISUALIZATION***\n"
      ]
    },
    {
      "cell_type": "markdown",
      "metadata": {
        "id": "GBjR9KprLJmI"
      },
      "source": [
        "**`sessions`**\n",
        "\n",
        "Analyzed the monthly frequency of user app openings through a box plot and histogram visualization."
      ]
    },
    {
      "cell_type": "code",
      "execution_count": 8,
      "metadata": {
        "colab": {
          "base_uri": "https://localhost:8080/",
          "height": 256
        },
        "id": "lKR8eicPLJmJ",
        "outputId": "8b32ef3a-f38e-487a-aec7-4d45c1af4099"
      },
      "outputs": [
        {
          "output_type": "display_data",
          "data": {
            "text/plain": [
              "<Figure size 700x200 with 1 Axes>"
            ],
            "image/png": "[encoded data removed]"
          },
          "metadata": {}
        }
      ],
      "source": [
        "# Box_plot\n",
        "plt.figure(figsize=(7,2))\n",
        "sns.boxplot(x=df['sessions'],fliersize=1)\n",
        "plt.title('Session box plot');\n",
        "plt.show()"
      ]
    },
    {
      "cell_type": "code",
      "execution_count": 9,
      "metadata": {
        "colab": {
          "base_uri": "https://localhost:8080/",
          "height": 350
        },
        "id": "eYxFyysELJmJ",
        "outputId": "e4cf7512-a81f-41ef-f2a8-719ec781e2c5"
      },
      "outputs": [
        {
          "output_type": "execute_result",
          "data": {
            "text/plain": [
              "Text(75, 1200, 'median = 56.0')"
            ]
          },
          "metadata": {},
          "execution_count": 9
        },
        {
          "output_type": "display_data",
          "data": {
            "text/plain": [
              "<Figure size 700x300 with 1 Axes>"
            ],
            "image/png": "[encoded data removed]"
          },
          "metadata": {}
        }
      ],
      "source": [
        "# Histogram\n",
        "plt.figure(figsize=(7,3))\n",
        "sns.histplot(x = df['sessions'])\n",
        "median = df['sessions'].median()\n",
        "plt.title('sessions Histogram')\n",
        "plt.axvline(median,color = \"black\", linestyle = '--')\n",
        "plt.text(75,1200,f'median = {median}', color = \"black\")\n"
      ]
    },
    {
      "cell_type": "markdown",
      "metadata": {
        "id": "MO4reRq3LJmK"
      },
      "source": [
        "The `sessions` variable exhibits a skewed distribution to the right, indicating that most users have a relatively low number of sessions. However, a small number of users have exceptionally high session counts, exceeding 700 as depicted by the boxplot."
      ]
    },
    {
      "cell_type": "markdown",
      "metadata": {
        "id": "d3kULgFhLJmK"
      },
      "source": [
        "**`Drives`**\n",
        "\n",
        "_Examined monthly occurrences of app openings and drives of at least 1 km using box plot and histogram visualizations_"
      ]
    },
    {
      "cell_type": "code",
      "execution_count": 10,
      "metadata": {
        "colab": {
          "base_uri": "https://localhost:8080/",
          "height": 256
        },
        "id": "9ZECyIRyLJmK",
        "outputId": "fc019f30-82d6-4a47-9639-faec2b280403"
      },
      "outputs": [
        {
          "output_type": "display_data",
          "data": {
            "text/plain": [
              "<Figure size 700x200 with 1 Axes>"
            ],
            "image/png": "[encoded data removed]"
          },
          "metadata": {}
        }
      ],
      "source": [
        "# BOX_PLOT\n",
        "plt.figure(figsize=(7,2))\n",
        "sns.boxplot(x=df['drives'],fliersize=1)\n",
        "plt.title('Drives Box_plt');"
      ]
    },
    {
      "cell_type": "code",
      "execution_count": 11,
      "metadata": {
        "colab": {
          "base_uri": "https://localhost:8080/",
          "height": 333
        },
        "id": "BOU90nhVLJmK",
        "outputId": "61f029eb-e3a3-47c3-e767-af59ec6c2002"
      },
      "outputs": [
        {
          "output_type": "display_data",
          "data": {
            "text/plain": [
              "<Figure size 600x300 with 1 Axes>"
            ],
            "image/png": "[encoded data removed]"
          },
          "metadata": {}
        }
      ],
      "source": [
        "# creating a function to plot histogram based on the format of the the 'session'program\n",
        "def histogrammer(column_str, median_text = True, **kwargs):\n",
        "    median = round(df[column_str].median(),1)\n",
        "    plt.figure(figsize=(6,3))\n",
        "    ax= sns.histplot(x = df[column_str], **kwargs)\n",
        "    plt.axvline(median, color = 'black', linestyle = '--')\n",
        "    if median_text == True:\n",
        "        ax.text(0.25,0.85,f'median = {median}', color = 'black',\n",
        "            ha = 'left', va = 'top', transform = ax.transAxes)\n",
        "    else:\n",
        "        print('Median:', median)\n",
        "    plt.title(f'{column_str}');\n",
        "\n",
        "histogrammer('drives')"
      ]
    },
    {
      "cell_type": "markdown",
      "metadata": {
        "id": "G90ZKTjYLJmL"
      },
      "source": [
        "The `drives` data displays a distribution akin to that of the `sessions` variable. It skews right, resembling a log-normal distribution, and has a median value of 48. Notably, a subset of drivers logged more than 400 drives last month."
      ]
    },
    {
      "cell_type": "markdown",
      "metadata": {
        "id": "WUJ1nlETLJmL"
      },
      "source": [
        "**`Total_sessions`**\n",
        "\n",
        "_Visualized the distribution of total sessions with a box plot using Python's Seaborn library. Additionally, developed a model to estimate the cumulative number of sessions since user onboarding_"
      ]
    },
    {
      "cell_type": "code",
      "execution_count": 12,
      "metadata": {
        "colab": {
          "base_uri": "https://localhost:8080/",
          "height": 273
        },
        "id": "SliXFiJNLJmL",
        "outputId": "e90fbcbb-451d-4b76-b1c7-87a3f5a882ac"
      },
      "outputs": [
        {
          "output_type": "execute_result",
          "data": {
            "text/plain": [
              "Text(0.5, 1.0, 'total_sessions Box_plot')"
            ]
          },
          "metadata": {},
          "execution_count": 12
        },
        {
          "output_type": "display_data",
          "data": {
            "text/plain": [
              "<Figure size 600x200 with 1 Axes>"
            ],
            "image/png": "[encoded data removed]"
          },
          "metadata": {}
        }
      ],
      "source": [
        "# Box plot\n",
        "plt.figure(figsize=(6,2))\n",
        "sns.boxplot(x=df['total_sessions'], fliersize=1)\n",
        "plt.title('total_sessions Box_plot')"
      ]
    },
    {
      "cell_type": "code",
      "execution_count": 13,
      "metadata": {
        "colab": {
          "base_uri": "https://localhost:8080/",
          "height": 333
        },
        "id": "i3hFe9-gLJmL",
        "outputId": "e60163dd-f121-43da-e454-3044ce8d75cd"
      },
      "outputs": [
        {
          "output_type": "display_data",
          "data": {
            "text/plain": [
              "<Figure size 600x300 with 1 Axes>"
            ],
            "image/png": "[encoded data removed]"
          },
          "metadata": {}
        }
      ],
      "source": [
        "# Used histogram function created before for quick analysis of Total sessions\n",
        "histogrammer('total_sessions')"
      ]
    },
    {
      "cell_type": "markdown",
      "metadata": {
        "id": "DpNKVQ0QLJmM"
      },
      "source": [
        "The distribution of `total_sessions` is skewed to the right, with a median of approximately 159.6 sessions. This observation is noteworthy because it suggests that a significant proportion of a user's estimated total sessions occurred recently, particularly given that the median number of sessions in the last month was 56. This trend invites further investigation to understand the concentration of sessions within recent periods."
      ]
    },
    {
      "cell_type": "markdown",
      "metadata": {
        "id": "9Anah-nOLJmM"
      },
      "source": [
        "**n_days after onboarding**\n",
        "\n",
        "_The number of days since the user signed up for the app_"
      ]
    },
    {
      "cell_type": "code",
      "execution_count": 14,
      "metadata": {
        "colab": {
          "base_uri": "https://localhost:8080/",
          "height": 256
        },
        "id": "P0my1m1qLJmM",
        "outputId": "c054f3b3-2411-407e-a179-2c3dcfce95ed"
      },
      "outputs": [
        {
          "output_type": "display_data",
          "data": {
            "text/plain": [
              "<Figure size 500x200 with 1 Axes>"
            ],
            "image/png": "[encoded data removed]"
          },
          "metadata": {}
        }
      ],
      "source": [
        "# Box Plot\n",
        "plt.figure(figsize = (5,2))\n",
        "sns.boxplot(x = df['n_days_after_onboarding'],fliersize=1)\n",
        "plt.title('Box plot : N_days after onboarding');\n",
        "plt.show()"
      ]
    },
    {
      "cell_type": "code",
      "execution_count": 15,
      "metadata": {
        "colab": {
          "base_uri": "https://localhost:8080/",
          "height": 350
        },
        "id": "ZUZUxTZELJmN",
        "outputId": "35d69b33-d6bb-4cd9-f20c-2aa382dbc653"
      },
      "outputs": [
        {
          "output_type": "stream",
          "name": "stdout",
          "text": [
            "Median: 1741.0\n"
          ]
        },
        {
          "output_type": "display_data",
          "data": {
            "text/plain": [
              "<Figure size 600x300 with 1 Axes>"
            ],
            "image/png": "[encoded data removed]"
          },
          "metadata": {}
        }
      ],
      "source": [
        "# Histogram\n",
        "histogrammer('n_days_after_onboarding',median_text= False)"
      ]
    },
    {
      "cell_type": "markdown",
      "metadata": {
        "id": "ZvAfLUZPLJmN"
      },
      "source": [
        "The total user tenure (i.e., number of days sinceonboarding) is a uniform distribution with values ranging from near-zero to \\~3,500 (\\~9.5 years)."
      ]
    },
    {
      "cell_type": "markdown",
      "metadata": {
        "id": "ybE2NPuJLJmN"
      },
      "source": [
        "**Driven_km_drives**\n",
        "\n",
        "_Total km driven during the month_"
      ]
    },
    {
      "cell_type": "code",
      "execution_count": 16,
      "metadata": {
        "colab": {
          "base_uri": "https://localhost:8080/",
          "height": 273
        },
        "id": "hvu5s8UdLJmN",
        "outputId": "d2582967-5e84-46e5-f9e9-cd3584a8ebda"
      },
      "outputs": [
        {
          "output_type": "execute_result",
          "data": {
            "text/plain": [
              "Text(0.5, 1.0, 'Driven_km_drive')"
            ]
          },
          "metadata": {},
          "execution_count": 16
        },
        {
          "output_type": "display_data",
          "data": {
            "text/plain": [
              "<Figure size 500x200 with 1 Axes>"
            ],
            "image/png": "[encoded data removed]"
          },
          "metadata": {}
        }
      ],
      "source": [
        "# Box plot\n",
        "plt.figure(figsize=(5,2))\n",
        "sns.boxplot(x = df['driven_km_drives'],fliersize=1)\n",
        "plt.title('Driven_km_drive')"
      ]
    },
    {
      "cell_type": "code",
      "execution_count": 17,
      "metadata": {
        "colab": {
          "base_uri": "https://localhost:8080/",
          "height": 350
        },
        "id": "NxzZwcPYLJmN",
        "outputId": "889104bc-21ee-4ef0-cff2-a08dcc2373f9"
      },
      "outputs": [
        {
          "output_type": "stream",
          "name": "stdout",
          "text": [
            "Median: 3493.9\n"
          ]
        },
        {
          "output_type": "display_data",
          "data": {
            "text/plain": [
              "<Figure size 600x300 with 1 Axes>"
            ],
            "image/png": "[encoded data removed]"
          },
          "metadata": {}
        }
      ],
      "source": [
        "# Histogram\n",
        "histogrammer('driven_km_drives', median_text= False)"
      ]
    },
    {
      "cell_type": "markdown",
      "metadata": {
        "id": "LA53-y0pLJmO"
      },
      "source": [
        "The number of drives driven in the last month per user is a right-skewed distribution with half the users driving under 3,495 kilometers. As you discovered in the analysis from the previous course, the users in this dataset drive _a lot_. The longest distance driven in the month was over half the circumferene of the earth."
      ]
    },
    {
      "cell_type": "markdown",
      "metadata": {
        "id": "ODy1L5nSLJmO"
      },
      "source": [
        "**duration_per_minute**\n",
        "\n",
        "_Total duration driven during the month in minutes_"
      ]
    },
    {
      "cell_type": "code",
      "execution_count": 18,
      "metadata": {
        "colab": {
          "base_uri": "https://localhost:8080/",
          "height": 350
        },
        "id": "b_JC77LPLJmO",
        "outputId": "a22f9212-107b-435b-9112-67c6d572354c"
      },
      "outputs": [
        {
          "output_type": "execute_result",
          "data": {
            "text/plain": [
              "Text(0.5, 1.0, 'Duration per minute')"
            ]
          },
          "metadata": {},
          "execution_count": 18
        },
        {
          "output_type": "display_data",
          "data": {
            "text/plain": [
              "<Figure size 500x300 with 1 Axes>"
            ],
            "image/png": "[encoded data removed]"
          },
          "metadata": {}
        }
      ],
      "source": [
        "# Box Plot\n",
        "plt.figure(figsize=(5,3))\n",
        "sns.boxplot(x = df['duration_minutes_drives'],fliersize=2)\n",
        "plt.title('Duration per minute')"
      ]
    },
    {
      "cell_type": "code",
      "execution_count": 19,
      "metadata": {
        "colab": {
          "base_uri": "https://localhost:8080/",
          "height": 333
        },
        "id": "opRkebWvLJmP",
        "outputId": "9ef6e556-b39d-4392-d9cc-620a5c39905e"
      },
      "outputs": [
        {
          "output_type": "display_data",
          "data": {
            "text/plain": [
              "<Figure size 600x300 with 1 Axes>"
            ],
            "image/png": "[encoded data removed]"
          },
          "metadata": {}
        }
      ],
      "source": [
        "# Histogram\n",
        "histogrammer('duration_minutes_drives')"
      ]
    },
    {
      "cell_type": "markdown",
      "metadata": {
        "id": "nUk4iqZkLJmP"
      },
      "source": [
        "The `duration_minutes_drives` variable has a heavily skewed right tail. Half of the users drove less than \\~1,478 minutes (\\~25 hours), but some users clocked over 250 hours over the month."
      ]
    },
    {
      "cell_type": "markdown",
      "metadata": {
        "id": "0T3Zi6MPLJmP"
      },
      "source": [
        "**activity_days**\n",
        "\n",
        "_Number of days the app was opened by the user_"
      ]
    },
    {
      "cell_type": "code",
      "execution_count": 20,
      "metadata": {
        "colab": {
          "base_uri": "https://localhost:8080/",
          "height": 174
        },
        "id": "jVGx0mZtLJmQ",
        "outputId": "d7f065b4-0d1c-42e0-8ac6-d0bf25e9b78f"
      },
      "outputs": [
        {
          "output_type": "execute_result",
          "data": {
            "text/plain": [
              "<Axes: xlabel='activity_days'>"
            ]
          },
          "metadata": {},
          "execution_count": 20
        },
        {
          "output_type": "display_data",
          "data": {
            "text/plain": [
              "<Figure size 500x100 with 1 Axes>"
            ],
            "image/png": "[encoded data removed]"
          },
          "metadata": {}
        }
      ],
      "source": [
        "# Box_plt\n",
        "plt.figure(figsize=(5,1))\n",
        "sns.boxplot(x = df['activity_days'])"
      ]
    },
    {
      "cell_type": "code",
      "execution_count": 21,
      "metadata": {
        "colab": {
          "base_uri": "https://localhost:8080/",
          "height": 350
        },
        "id": "07GEgNxBLJmR",
        "outputId": "df4cef31-0518-41ff-851e-ea5b02f50e7d"
      },
      "outputs": [
        {
          "output_type": "stream",
          "name": "stdout",
          "text": [
            "Median: 16.0\n"
          ]
        },
        {
          "output_type": "display_data",
          "data": {
            "text/plain": [
              "<Figure size 600x300 with 1 Axes>"
            ],
            "image/png": "[encoded data removed]"
          },
          "metadata": {}
        }
      ],
      "source": [
        "# Histogram\n",
        "histogrammer('activity_days',median_text=False)"
      ]
    },
    {
      "cell_type": "markdown",
      "metadata": {
        "id": "RzcgX_C4LJmR"
      },
      "source": [
        "In the past month, users opened the app approximately 16 times on average. The **box plot** indicates a balanced distribution, while the **histogram** depicts nearly uniform usage, with _around 500 individuals logging into the app on various days_. Notably, *about 250 users didn't use the app at all*, contrasting with another 250 who accessed it daily throughout the month.\n",
        "\n",
        "This distribution is intriguing because it diverges from the expected correlation between app usage `sessions` and `activity days`, which typically align closely."
      ]
    },
    {
      "cell_type": "markdown",
      "metadata": {
        "id": "_bLMrl9ZLJmR"
      },
      "source": [
        "**`driving_days`**\n",
        "\n",
        "_Number of days the user drives **Atleast 1 hour** during the month_\n"
      ]
    },
    {
      "cell_type": "code",
      "execution_count": 22,
      "metadata": {
        "colab": {
          "base_uri": "https://localhost:8080/",
          "height": 273
        },
        "id": "tnbjv_yuLJmR",
        "outputId": "d794c564-0a5d-46b3-9cdc-865869c56e09"
      },
      "outputs": [
        {
          "output_type": "execute_result",
          "data": {
            "text/plain": [
              "Text(0.5, 1.0, 'driving_days')"
            ]
          },
          "metadata": {},
          "execution_count": 22
        },
        {
          "output_type": "display_data",
          "data": {
            "text/plain": [
              "<Figure size 500x200 with 1 Axes>"
            ],
            "image/png": "[encoded data removed]"
          },
          "metadata": {}
        }
      ],
      "source": [
        "# Box_plot\n",
        "plt.figure(figsize=(5,2))\n",
        "sns.boxplot(x = df['driving_days'],fliersize=1)\n",
        "plt.title(\"driving_days\")"
      ]
    },
    {
      "cell_type": "code",
      "execution_count": 23,
      "metadata": {
        "colab": {
          "base_uri": "https://localhost:8080/",
          "height": 350
        },
        "id": "ps1WldhQLJmb",
        "outputId": "c004d57d-a337-4932-ca6d-9808550ee3ae"
      },
      "outputs": [
        {
          "output_type": "stream",
          "name": "stdout",
          "text": [
            "Median: 12.0\n"
          ]
        },
        {
          "output_type": "display_data",
          "data": {
            "text/plain": [
              "<Figure size 600x300 with 1 Axes>"
            ],
            "image/png": "[encoded data removed]"
          },
          "metadata": {}
        }
      ],
      "source": [
        "# Histogram\n",
        "histogrammer('driving_days', median_text= False)"
      ]
    },
    {
      "cell_type": "markdown",
      "metadata": {
        "id": "Cx35S9qKLJmb"
      },
      "source": [
        "**Device**\n",
        "\n",
        "_The type of device used by a user for a session_"
      ]
    },
    {
      "cell_type": "code",
      "execution_count": 24,
      "metadata": {
        "colab": {
          "base_uri": "https://localhost:8080/",
          "height": 307
        },
        "id": "Q9D9LaFELJmc",
        "outputId": "34ba0f81-bb6c-4b61-ec1b-970db26c843c"
      },
      "outputs": [
        {
          "output_type": "execute_result",
          "data": {
            "text/plain": [
              "Text(0.5, 1.0, 'User by Device')"
            ]
          },
          "metadata": {},
          "execution_count": 24
        },
        {
          "output_type": "display_data",
          "data": {
            "text/plain": [
              "<Figure size 300x300 with 1 Axes>"
            ],
            "image/png": "[encoded data removed]"
          },
          "metadata": {}
        }
      ],
      "source": [
        "fig = plt.figure(figsize=(3,3))\n",
        "data = df['device'].value_counts()\n",
        "plt.pie(data,\n",
        "        labels=[f'{data.index[0]}:{data.values[0]}',\n",
        "                f'{data.index[1]}:{data.values[1]}'],\n",
        "        autopct='%1.1f%%'\n",
        "        )\n",
        "plt.title('User by Device')"
      ]
    },
    {
      "cell_type": "markdown",
      "metadata": {
        "id": "9F_d5WSbLJmc"
      },
      "source": [
        "_The dataset exhibits a proportion where the number of iPhone users is nearly twice that of Android users._\n"
      ]
    },
    {
      "cell_type": "markdown",
      "metadata": {
        "id": "YzdszkquLJmc"
      },
      "source": [
        "`**labels**`\n",
        "\n",
        "_Binary target variable (“retained” vs “churned”) for if a user has churned anytime during the course of the month_"
      ]
    },
    {
      "cell_type": "code",
      "execution_count": 25,
      "metadata": {
        "colab": {
          "base_uri": "https://localhost:8080/",
          "height": 226
        },
        "id": "sXlE9E7KLJmd",
        "outputId": "cc7b4b50-fbd3-4899-ced5-8f4d0278cc5b"
      },
      "outputs": [
        {
          "output_type": "execute_result",
          "data": {
            "text/plain": [
              "   ID     label  sessions  drives  total_sessions  n_days_after_onboarding  \\\n",
              "0   0  retained       283     226      296.748273                     2276   \n",
              "1   1  retained       133     107      326.896596                     1225   \n",
              "2   2  retained       114      95      135.522926                     2651   \n",
              "3   3  retained        49      40       67.589221                       15   \n",
              "4   4  retained        84      68      168.247020                     1562   \n",
              "\n",
              "   total_navigations_fav1  total_navigations_fav2  driven_km_drives  \\\n",
              "0                     208                       0       2628.845068   \n",
              "1                      19                      64      13715.920550   \n",
              "2                       0                       0       3059.148818   \n",
              "3                     322                       7        913.591123   \n",
              "4                     166                       5       3950.202008   \n",
              "\n",
              "   duration_minutes_drives  activity_days  driving_days   device  \n",
              "0              1985.775061             28            19  Android  \n",
              "1              3160.472914             13            11   iPhone  \n",
              "2              1610.735904             14             8  Android  \n",
              "3               587.196542              7             3   iPhone  \n",
              "4              1219.555924             27            18  Android  "
            ],
            "text/html": [
              "\n",
              "  <div id=\"df-1d0dba8f-ea28-4510-8796-273127406981\" class=\"colab-df-container\">\n",
              "    <div>\n",
              "<style scoped>\n",
              "    .dataframe tbody tr th:only-of-type {\n",
              "        vertical-align: middle;\n",
              "    }\n",
              "\n",
              "    .dataframe tbody tr th {\n",
              "        vertical-align: top;\n",
              "    }\n",
              "\n",
              "    .dataframe thead th {\n",
              "        text-align: right;\n",
              "    }\n",
              "</style>\n",
              "<table border=\"1\" class=\"dataframe\">\n",
              "  <thead>\n",
              "    <tr style=\"text-align: right;\">\n",
              "      <th></th>\n",
              "      <th>ID</th>\n",
              "      <th>label</th>\n",
              "      <th>sessions</th>\n",
              "      <th>drives</th>\n",
              "      <th>total_sessions</th>\n",
              "      <th>n_days_after_onboarding</th>\n",
              "      <th>total_navigations_fav1</th>\n",
              "      <th>total_navigations_fav2</th>\n",
              "      <th>driven_km_drives</th>\n",
              "      <th>duration_minutes_drives</th>\n",
              "      <th>activity_days</th>\n",
              "      <th>driving_days</th>\n",
              "      <th>device</th>\n",
              "    </tr>\n",
              "  </thead>\n",
              "  <tbody>\n",
              "    <tr>\n",
              "      <th>0</th>\n",
              "      <td>0</td>\n",
              "      <td>retained</td>\n",
              "      <td>283</td>\n",
              "      <td>226</td>\n",
              "      <td>296.748273</td>\n",
              "      <td>2276</td>\n",
              "      <td>208</td>\n",
              "      <td>0</td>\n",
              "      <td>2628.845068</td>\n",
              "      <td>1985.775061</td>\n",
              "      <td>28</td>\n",
              "      <td>19</td>\n",
              "      <td>Android</td>\n",
              "    </tr>\n",
              "    <tr>\n",
              "      <th>1</th>\n",
              "      <td>1</td>\n",
              "      <td>retained</td>\n",
              "      <td>133</td>\n",
              "      <td>107</td>\n",
              "      <td>326.896596</td>\n",
              "      <td>1225</td>\n",
              "      <td>19</td>\n",
              "      <td>64</td>\n",
              "      <td>13715.920550</td>\n",
              "      <td>3160.472914</td>\n",
              "      <td>13</td>\n",
              "      <td>11</td>\n",
              "      <td>iPhone</td>\n",
              "    </tr>\n",
              "    <tr>\n",
              "      <th>2</th>\n",
              "      <td>2</td>\n",
              "      <td>retained</td>\n",
              "      <td>114</td>\n",
              "      <td>95</td>\n",
              "      <td>135.522926</td>\n",
              "      <td>2651</td>\n",
              "      <td>0</td>\n",
              "      <td>0</td>\n",
              "      <td>3059.148818</td>\n",
              "      <td>1610.735904</td>\n",
              "      <td>14</td>\n",
              "      <td>8</td>\n",
              "      <td>Android</td>\n",
              "    </tr>\n",
              "    <tr>\n",
              "      <th>3</th>\n",
              "      <td>3</td>\n",
              "      <td>retained</td>\n",
              "      <td>49</td>\n",
              "      <td>40</td>\n",
              "      <td>67.589221</td>\n",
              "      <td>15</td>\n",
              "      <td>322</td>\n",
              "      <td>7</td>\n",
              "      <td>913.591123</td>\n",
              "      <td>587.196542</td>\n",
              "      <td>7</td>\n",
              "      <td>3</td>\n",
              "      <td>iPhone</td>\n",
              "    </tr>\n",
              "    <tr>\n",
              "      <th>4</th>\n",
              "      <td>4</td>\n",
              "      <td>retained</td>\n",
              "      <td>84</td>\n",
              "      <td>68</td>\n",
              "      <td>168.247020</td>\n",
              "      <td>1562</td>\n",
              "      <td>166</td>\n",
              "      <td>5</td>\n",
              "      <td>3950.202008</td>\n",
              "      <td>1219.555924</td>\n",
              "      <td>27</td>\n",
              "      <td>18</td>\n",
              "      <td>Android</td>\n",
              "    </tr>\n",
              "  </tbody>\n",
              "</table>\n",
              "</div>\n",
              "    <div class=\"colab-df-buttons\">\n",
              "\n",
              "  <div class=\"colab-df-container\">\n",
              "    <button class=\"colab-df-convert\" onclick=\"convertToInteractive('df-1d0dba8f-ea28-4510-8796-273127406981')\"\n",
              "            title=\"Convert this dataframe to an interactive table.\"\n",
              "            style=\"display:none;\">\n",
              "\n",
              "  <svg xmlns=\"http://www.w3.org/2000/svg\" height=\"24px\" viewBox=\"0 -960 960 960\">\n",
              "    <path d=\"M120-120v-720h720v720H120Zm60-500h600v-160H180v160Zm220 220h160v-160H400v160Zm0 220h160v-160H400v160ZM180-400h160v-160H180v160Zm440 0h160v-160H620v160ZM180-180h160v-160H180v160Zm440 0h160v-160H620v160Z\"/>\n",
              "  </svg>\n",
              "    </button>\n",
              "\n",
              "  <style>\n",
              "    .colab-df-container {\n",
              "      display:flex;\n",
              "      gap: 12px;\n",
              "    }\n",
              "\n",
              "    .colab-df-convert {\n",
              "      background-color: #E8F0FE;\n",
              "      border: none;\n",
              "      border-radius: 50%;\n",
              "      cursor: pointer;\n",
              "      display: none;\n",
              "      fill: #1967D2;\n",
              "      height: 32px;\n",
              "      padding: 0 0 0 0;\n",
              "      width: 32px;\n",
              "    }\n",
              "\n",
              "    .colab-df-convert:hover {\n",
              "      background-color: #E2EBFA;\n",
              "      box-shadow: 0px 1px 2px rgba(60, 64, 67, 0.3), 0px 1px 3px 1px rgba(60, 64, 67, 0.15);\n",
              "      fill: #174EA6;\n",
              "    }\n",
              "\n",
              "    .colab-df-buttons div {\n",
              "      margin-bottom: 4px;\n",
              "    }\n",
              "\n",
              "    [theme=dark] .colab-df-convert {\n",
              "      background-color: #3B4455;\n",
              "      fill: #D2E3FC;\n",
              "    }\n",
              "\n",
              "    [theme=dark] .colab-df-convert:hover {\n",
              "      background-color: #434B5C;\n",
              "      box-shadow: 0px 1px 3px 1px rgba(0, 0, 0, 0.15);\n",
              "      filter: drop-shadow(0px 1px 2px rgba(0, 0, 0, 0.3));\n",
              "      fill: #FFFFFF;\n",
              "    }\n",
              "  </style>\n",
              "\n",
              "    <script>\n",
              "      const buttonEl =\n",
              "        document.querySelector('#df-1d0dba8f-ea28-4510-8796-273127406981 button.colab-df-convert');\n",
              "      buttonEl.style.display =\n",
              "        google.colab.kernel.accessAllowed ? 'block' : 'none';\n",
              "\n",
              "      async function convertToInteractive(key) {\n",
              "        const element = document.querySelector('#df-1d0dba8f-ea28-4510-8796-273127406981');\n",
              "        const dataTable =\n",
              "          await google.colab.kernel.invokeFunction('convertToInteractive',\n",
              "                                                    [key], {});\n",
              "        if (!dataTable) return;\n",
              "\n",
              "        const docLinkHtml = 'Like what you see? Visit the ' +\n",
              "          '<a target=\"_blank\" href=https://colab.research.google.com/notebooks/data_table.ipynb>data table notebook</a>'\n",
              "          + ' to learn more about interactive tables.';\n",
              "        element.innerHTML = '';\n",
              "        dataTable['output_type'] = 'display_data';\n",
              "        await google.colab.output.renderOutput(dataTable, element);\n",
              "        const docLink = document.createElement('div');\n",
              "        docLink.innerHTML = docLinkHtml;\n",
              "        element.appendChild(docLink);\n",
              "      }\n",
              "    </script>\n",
              "  </div>\n",
              "\n",
              "\n",
              "<div id=\"df-6b29df13-358f-4b2d-99a8-1e7d6b9daec0\">\n",
              "  <button class=\"colab-df-quickchart\" onclick=\"quickchart('df-6b29df13-358f-4b2d-99a8-1e7d6b9daec0')\"\n",
              "            title=\"Suggest charts\"\n",
              "            style=\"display:none;\">\n",
              "\n",
              "<svg xmlns=\"http://www.w3.org/2000/svg\" height=\"24px\"viewBox=\"0 0 24 24\"\n",
              "     width=\"24px\">\n",
              "    <g>\n",
              "        <path d=\"M19 3H5c-1.1 0-2 .9-2 2v14c0 1.1.9 2 2 2h14c1.1 0 2-.9 2-2V5c0-1.1-.9-2-2-2zM9 17H7v-7h2v7zm4 0h-2V7h2v10zm4 0h-2v-4h2v4z\"/>\n",
              "    </g>\n",
              "</svg>\n",
              "  </button>\n",
              "\n",
              "<style>\n",
              "  .colab-df-quickchart {\n",
              "      --bg-color: #E8F0FE;\n",
              "      --fill-color: #1967D2;\n",
              "      --hover-bg-color: #E2EBFA;\n",
              "      --hover-fill-color: #174EA6;\n",
              "      --disabled-fill-color: #AAA;\n",
              "      --disabled-bg-color: #DDD;\n",
              "  }\n",
              "\n",
              "  [theme=dark] .colab-df-quickchart {\n",
              "      --bg-color: #3B4455;\n",
              "      --fill-color: #D2E3FC;\n",
              "      --hover-bg-color: #434B5C;\n",
              "      --hover-fill-color: #FFFFFF;\n",
              "      --disabled-bg-color: #3B4455;\n",
              "      --disabled-fill-color: #666;\n",
              "  }\n",
              "\n",
              "  .colab-df-quickchart {\n",
              "    background-color: var(--bg-color);\n",
              "    border: none;\n",
              "    border-radius: 50%;\n",
              "    cursor: pointer;\n",
              "    display: none;\n",
              "    fill: var(--fill-color);\n",
              "    height: 32px;\n",
              "    padding: 0;\n",
              "    width: 32px;\n",
              "  }\n",
              "\n",
              "  .colab-df-quickchart:hover {\n",
              "    background-color: var(--hover-bg-color);\n",
              "    box-shadow: 0 1px 2px rgba(60, 64, 67, 0.3), 0 1px 3px 1px rgba(60, 64, 67, 0.15);\n",
              "    fill: var(--button-hover-fill-color);\n",
              "  }\n",
              "\n",
              "  .colab-df-quickchart-complete:disabled,\n",
              "  .colab-df-quickchart-complete:disabled:hover {\n",
              "    background-color: var(--disabled-bg-color);\n",
              "    fill: var(--disabled-fill-color);\n",
              "    box-shadow: none;\n",
              "  }\n",
              "\n",
              "  .colab-df-spinner {\n",
              "    border: 2px solid var(--fill-color);\n",
              "    border-color: transparent;\n",
              "    border-bottom-color: var(--fill-color);\n",
              "    animation:\n",
              "      spin 1s steps(1) infinite;\n",
              "  }\n",
              "\n",
              "  @keyframes spin {\n",
              "    0% {\n",
              "      border-color: transparent;\n",
              "      border-bottom-color: var(--fill-color);\n",
              "      border-left-color: var(--fill-color);\n",
              "    }\n",
              "    20% {\n",
              "      border-color: transparent;\n",
              "      border-left-color: var(--fill-color);\n",
              "      border-top-color: var(--fill-color);\n",
              "    }\n",
              "    30% {\n",
              "      border-color: transparent;\n",
              "      border-left-color: var(--fill-color);\n",
              "      border-top-color: var(--fill-color);\n",
              "      border-right-color: var(--fill-color);\n",
              "    }\n",
              "    40% {\n",
              "      border-color: transparent;\n",
              "      border-right-color: var(--fill-color);\n",
              "      border-top-color: var(--fill-color);\n",
              "    }\n",
              "    60% {\n",
              "      border-color: transparent;\n",
              "      border-right-color: var(--fill-color);\n",
              "    }\n",
              "    80% {\n",
              "      border-color: transparent;\n",
              "      border-right-color: var(--fill-color);\n",
              "      border-bottom-color: var(--fill-color);\n",
              "    }\n",
              "    90% {\n",
              "      border-color: transparent;\n",
              "      border-bottom-color: var(--fill-color);\n",
              "    }\n",
              "  }\n",
              "</style>\n",
              "\n",
              "  <script>\n",
              "    async function quickchart(key) {\n",
              "      const quickchartButtonEl =\n",
              "        document.querySelector('#' + key + ' button');\n",
              "      quickchartButtonEl.disabled = true;  // To prevent multiple clicks.\n",
              "      quickchartButtonEl.classList.add('colab-df-spinner');\n",
              "      try {\n",
              "        const charts = await google.colab.kernel.invokeFunction(\n",
              "            'suggestCharts', [key], {});\n",
              "      } catch (error) {\n",
              "        console.error('Error during call to suggestCharts:', error);\n",
              "      }\n",
              "      quickchartButtonEl.classList.remove('colab-df-spinner');\n",
              "      quickchartButtonEl.classList.add('colab-df-quickchart-complete');\n",
              "    }\n",
              "    (() => {\n",
              "      let quickchartButtonEl =\n",
              "        document.querySelector('#df-6b29df13-358f-4b2d-99a8-1e7d6b9daec0 button');\n",
              "      quickchartButtonEl.style.display =\n",
              "        google.colab.kernel.accessAllowed ? 'block' : 'none';\n",
              "    })();\n",
              "  </script>\n",
              "</div>\n",
              "\n",
              "    </div>\n",
              "  </div>\n"
            ],
            "application/vnd.google.colaboratory.intrinsic+json": {
              "type": "dataframe",
              "variable_name": "df",
              "summary": "{\n  \"name\": \"df\",\n  \"rows\": 14999,\n  \"fields\": [\n    {\n      \"column\": \"ID\",\n      \"properties\": {\n        \"dtype\": \"number\",\n        \"std\": 4329,\n        \"min\": 0,\n        \"max\": 14998,\n        \"num_unique_values\": 14999,\n        \"samples\": [\n          6723,\n          6473,\n          4679\n        ],\n        \"semantic_type\": \"\",\n        \"description\": \"\"\n      }\n    },\n    {\n      \"column\": \"label\",\n      \"properties\": {\n        \"dtype\": \"category\",\n        \"num_unique_values\": 2,\n        \"samples\": [\n          \"churned\",\n          \"retained\"\n        ],\n        \"semantic_type\": \"\",\n        \"description\": \"\"\n      }\n    },\n    {\n      \"column\": \"sessions\",\n      \"properties\": {\n        \"dtype\": \"number\",\n        \"std\": 80,\n        \"min\": 0,\n        \"max\": 743,\n        \"num_unique_values\": 469,\n        \"samples\": [\n          142,\n          56\n        ],\n        \"semantic_type\": \"\",\n        \"description\": \"\"\n      }\n    },\n    {\n      \"column\": \"drives\",\n      \"properties\": {\n        \"dtype\": \"number\",\n        \"std\": 65,\n        \"min\": 0,\n        \"max\": 596,\n        \"num_unique_values\": 401,\n        \"samples\": [\n          189,\n          432\n        ],\n        \"semantic_type\": \"\",\n        \"description\": \"\"\n      }\n    },\n    {\n      \"column\": \"total_sessions\",\n      \"properties\": {\n        \"dtype\": \"number\",\n        \"std\": 136.40512847760343,\n        \"min\": 0.2202109438,\n        \"max\": 1216.154633,\n        \"num_unique_values\": 14999,\n        \"samples\": [\n          193.0569446,\n          158.7964088\n        ],\n        \"semantic_type\": \"\",\n        \"description\": \"\"\n      }\n    },\n    {\n      \"column\": \"n_days_after_onboarding\",\n      \"properties\": {\n        \"dtype\": \"number\",\n        \"std\": 1008,\n        \"min\": 4,\n        \"max\": 3500,\n        \"num_unique_values\": 3441,\n        \"samples\": [\n          2332,\n          1713\n        ],\n        \"semantic_type\": \"\",\n        \"description\": \"\"\n      }\n    },\n    {\n      \"column\": \"total_navigations_fav1\",\n      \"properties\": {\n        \"dtype\": \"number\",\n        \"std\": 148,\n        \"min\": 0,\n        \"max\": 1236,\n        \"num_unique_values\": 730,\n        \"samples\": [\n          449,\n          266\n        ],\n        \"semantic_type\": \"\",\n        \"description\": \"\"\n      }\n    },\n    {\n      \"column\": \"total_navigations_fav2\",\n      \"properties\": {\n        \"dtype\": \"number\",\n        \"std\": 45,\n        \"min\": 0,\n        \"max\": 415,\n        \"num_unique_values\": 287,\n        \"samples\": [\n          19,\n          170\n        ],\n        \"semantic_type\": \"\",\n        \"description\": \"\"\n      }\n    },\n    {\n      \"column\": \"driven_km_drives\",\n      \"properties\": {\n        \"dtype\": \"number\",\n        \"std\": 2502.1493337964916,\n        \"min\": 60.44125046,\n        \"max\": 21183.40189,\n        \"num_unique_values\": 14999,\n        \"samples\": [\n          4344.360643,\n          1233.677809\n        ],\n        \"semantic_type\": \"\",\n        \"description\": \"\"\n      }\n    },\n    {\n      \"column\": \"duration_minutes_drives\",\n      \"properties\": {\n        \"dtype\": \"number\",\n        \"std\": 1446.702287563326,\n        \"min\": 18.28208247,\n        \"max\": 15851.72716,\n        \"num_unique_values\": 14999,\n        \"samples\": [\n          2264.211324,\n          731.9878865\n        ],\n        \"semantic_type\": \"\",\n        \"description\": \"\"\n      }\n    },\n    {\n      \"column\": \"activity_days\",\n      \"properties\": {\n        \"dtype\": \"number\",\n        \"std\": 9,\n        \"min\": 0,\n        \"max\": 31,\n        \"num_unique_values\": 32,\n        \"samples\": [\n          3,\n          21\n        ],\n        \"semantic_type\": \"\",\n        \"description\": \"\"\n      }\n    },\n    {\n      \"column\": \"driving_days\",\n      \"properties\": {\n        \"dtype\": \"number\",\n        \"std\": 7,\n        \"min\": 0,\n        \"max\": 30,\n        \"num_unique_values\": 31,\n        \"samples\": [\n          27,\n          16\n        ],\n        \"semantic_type\": \"\",\n        \"description\": \"\"\n      }\n    },\n    {\n      \"column\": \"device\",\n      \"properties\": {\n        \"dtype\": \"category\",\n        \"num_unique_values\": 2,\n        \"samples\": [\n          \"iPhone\",\n          \"Android\"\n        ],\n        \"semantic_type\": \"\",\n        \"description\": \"\"\n      }\n    }\n  ]\n}"
            }
          },
          "metadata": {},
          "execution_count": 25
        }
      ],
      "source": [
        "df.head()"
      ]
    },
    {
      "cell_type": "code",
      "execution_count": 26,
      "metadata": {
        "colab": {
          "base_uri": "https://localhost:8080/",
          "height": 384
        },
        "id": "eQCfEtlHLJme",
        "outputId": "a1aac177-1a5d-4eb0-f73e-ac3ced16b32a"
      },
      "outputs": [
        {
          "output_type": "execute_result",
          "data": {
            "text/plain": [
              "Text(0.5, 1.0, 'Retained_count v/s churned')"
            ]
          },
          "metadata": {},
          "execution_count": 26
        },
        {
          "output_type": "display_data",
          "data": {
            "text/plain": [
              "<Figure size 400x400 with 1 Axes>"
            ],
            "image/png": "[encoded data removed]"
          },
          "metadata": {}
        }
      ],
      "source": [
        "fig = plt.figure(figsize = (4,4))\n",
        "data = df['label'].value_counts()\n",
        "plt.pie(data,\n",
        "        labels = [f'{data.index[0]}:{data.values[0]}',\n",
        "                  f'{data.index[1]}:{data.values[1]}'],\n",
        "        autopct='%1.1f%%'\n",
        "        )\n",
        "plt.title('Retained_count v/s churned')"
      ]
    },
    {
      "cell_type": "markdown",
      "metadata": {
        "id": "GLDJYec2LJme"
      },
      "source": [
        "*Less than 18% of the users churned.*"
      ]
    },
    {
      "cell_type": "markdown",
      "metadata": {
        "id": "YAdgT6gVLJme"
      },
      "source": [
        "`**Driving Days v/s Activity Days**`\n",
        "\n",
        "As both `driving_days` and `activity_days` represents count of days over a month and are also closely related, I am plotting them together on a single histogram. This will help in better understanding on how they relate to each other,without scrolling back and forth comparing histograms in two different places.\n",
        "\n",
        "_Plotting a histogram for each day which has a bar representing the counts of `driving_days` and for `user_days`._\n"
      ]
    },
    {
      "cell_type": "code",
      "execution_count": 27,
      "metadata": {
        "colab": {
          "base_uri": "https://localhost:8080/",
          "height": 405
        },
        "id": "3oZqHxc3LJmf",
        "outputId": "ba9ae571-1ff2-4b54-f524-189e169781de"
      },
      "outputs": [
        {
          "output_type": "execute_result",
          "data": {
            "text/plain": [
              "<matplotlib.legend.Legend at 0x7af036893130>"
            ]
          },
          "metadata": {},
          "execution_count": 27
        },
        {
          "output_type": "display_data",
          "data": {
            "text/plain": [
              "<Figure size 1200x400 with 1 Axes>"
            ],
            "image/png": "[encoded data removed]"
          },
          "metadata": {}
        }
      ],
      "source": [
        "# Histogram\n",
        "plt.figure(figsize=(12,4))\n",
        "label = ['driving days', 'activity days']\n",
        "plt.hist([df['driving_days'],df['activity_days']],\n",
        "         bins=range(0,33),\n",
        "         label=label)\n",
        "plt.xlabel('days')\n",
        "plt.ylabel('count')\n",
        "plt.legend()"
      ]
    },
    {
      "cell_type": "markdown",
      "metadata": {
        "id": "ETjbERzGLJmh"
      },
      "source": [
        "Interestingly, there appears to be a paradoxical trend: there are fewer individuals who did not use the app at all during the month, while there are more who did not drive at all. This observation might seem counterintuitive at first glance. However, this difference likely underscores the distinct nature of these variables. While they are related, their definitions vary. People may interact with the app for reasons other than driving, such as checking drive times, updating settings, or even by accidental interactions.\n",
        "Considering these nuances, it could be valuable to consult Waze's data team for further insights, especially since the number of days represented by each variable may differ.\""
      ]
    },
    {
      "cell_type": "code",
      "execution_count": 28,
      "metadata": {
        "colab": {
          "base_uri": "https://localhost:8080/"
        },
        "id": "OVVrvFwtLJmh",
        "outputId": "12fc44ef-93d8-4d6b-8038-9c5be17ba17a"
      },
      "outputs": [
        {
          "output_type": "stream",
          "name": "stdout",
          "text": [
            "30\n",
            "31\n"
          ]
        }
      ],
      "source": [
        "print(df['driving_days'].max())\n",
        "print(df['activity_days'].max())"
      ]
    },
    {
      "cell_type": "markdown",
      "metadata": {
        "id": "THtBqT5ILJmi"
      },
      "source": [
        "It's true. Although it's possible that not a single user drove all 31 days of the month, it's highly unlikely, considering there are 15,000 people represented in the dataset.\n",
        "\n",
        "One other way to check the validity of these variables is to plot a simple scatter plot with the x-axis representing one variable and the y-axis representing the other."
      ]
    },
    {
      "cell_type": "code",
      "execution_count": 29,
      "metadata": {
        "colab": {
          "base_uri": "https://localhost:8080/",
          "height": 489
        },
        "id": "I7mXr4OjLJmj",
        "outputId": "cd24f5db-41f5-4fae-84f9-7b4fa5ac19db"
      },
      "outputs": [
        {
          "output_type": "execute_result",
          "data": {
            "text/plain": [
              "Text(0.5, 1.0, 'Drving_days and Activity_days')"
            ]
          },
          "metadata": {},
          "execution_count": 29
        },
        {
          "output_type": "display_data",
          "data": {
            "text/plain": [
              "<Figure size 640x480 with 1 Axes>"
            ],
            "image/png": "[encoded data removed]"
          },
          "metadata": {}
        }
      ],
      "source": [
        "# Scatter_plot\n",
        "sns.scatterplot(data=df,x = 'driving_days',y='activity_days')\n",
        "plt.plot([0,31],[0,31],color = 'green',linestyle = '--')\n",
        "plt.title('Drving_days and Activity_days')"
      ]
    },
    {
      "cell_type": "markdown",
      "metadata": {
        "id": "3aLZsgr7LJmk"
      },
      "source": [
        "It's important to note a theoretical constraint: if an individual uses the app for driving, it inherently counts as a day of activity as well. This implies that the number of drive-days cannot exceed activity-days. Fortunately, none of the samples in this dataset violate this fundamental rule, which is reassuring."
      ]
    },
    {
      "cell_type": "markdown",
      "metadata": {
        "id": "1iELWSK3LJmk"
      },
      "source": [
        "**`Retention by devices`**\n",
        "\n",
        "_Creating a histogram with four bars, each representing a combination of **device type** and **label**. This visualization will illustrate the retention and churn rates for iPhone and Android users separately"
      ]
    },
    {
      "cell_type": "code",
      "execution_count": 30,
      "metadata": {
        "colab": {
          "base_uri": "https://localhost:8080/",
          "height": 427
        },
        "id": "u-RqRq0ALJml",
        "outputId": "2e22bd6c-4a35-48ac-98d8-8ee9da3bb5a9"
      },
      "outputs": [
        {
          "output_type": "execute_result",
          "data": {
            "text/plain": [
              "Text(0, 0.5, 'Count')"
            ]
          },
          "metadata": {},
          "execution_count": 30
        },
        {
          "output_type": "display_data",
          "data": {
            "text/plain": [
              "<Figure size 500x400 with 1 Axes>"
            ],
            "image/png": "[encoded data removed]"
          },
          "metadata": {}
        }
      ],
      "source": [
        "# Histogram\n",
        "plt.figure(figsize=(5,4))\n",
        "sns.histplot(data=df,\n",
        "             x='device',\n",
        "             hue='label',\n",
        "             multiple='dodge',\n",
        "             shrink = 0.8)\n",
        "plt.title('Retention by Device')\n",
        "plt.xlabel('Device')\n",
        "plt.ylabel('Count')"
      ]
    },
    {
      "cell_type": "markdown",
      "metadata": {
        "id": "WX9FTC8KLJml"
      },
      "source": [
        "_The ratio of churned users to retained users remains consistent across different device types._"
      ]
    },
    {
      "cell_type": "markdown",
      "metadata": {
        "id": "C13717zOLJmm"
      },
      "source": [
        "**`Retention by Kilometer_driven_per_driving_day`**\n",
        "\n",
        "As per observation of previous graphs it was discovered that the median distance driven per driving day last month for users who churned was 608.78 km, versus 247.48 km for people who did not churn.  For examining this further.\n",
        "\n",
        "1. Creating a new column in `df` called `km_per_driving_day`, which represents the mean distance driven per driving day for each user.\n",
        "\n",
        "2. Using the `describe()` method on the new column."
      ]
    },
    {
      "cell_type": "code",
      "execution_count": 31,
      "metadata": {
        "colab": {
          "base_uri": "https://localhost:8080/"
        },
        "id": "HkJ2Mi_KLJmm",
        "outputId": "20c8145c-5288-42e3-e493-c31546d04c6c"
      },
      "outputs": [
        {
          "output_type": "execute_result",
          "data": {
            "text/plain": [
              "count    1.499900e+04\n",
              "mean              inf\n",
              "std               NaN\n",
              "min      3.022063e+00\n",
              "25%      1.672804e+02\n",
              "50%      3.231459e+02\n",
              "75%      7.579257e+02\n",
              "max               inf\n",
              "Name: km_per_driving_day, dtype: float64"
            ]
          },
          "metadata": {},
          "execution_count": 31
        }
      ],
      "source": [
        "df['km_per_driving_day'] = df['driven_km_drives']/df['driving_days']\n",
        "df['km_per_driving_day'].describe()"
      ]
    },
    {
      "cell_type": "code",
      "execution_count": 32,
      "metadata": {
        "colab": {
          "base_uri": "https://localhost:8080/"
        },
        "id": "_rnKgjdNLJmn",
        "outputId": "d806749c-8021-4e74-ee4d-c53eb3554ba9"
      },
      "outputs": [
        {
          "output_type": "execute_result",
          "data": {
            "text/plain": [
              "count    14999.000000\n",
              "mean       578.963113\n",
              "std       1030.094384\n",
              "min          0.000000\n",
              "25%        136.238895\n",
              "50%        272.889272\n",
              "75%        558.686918\n",
              "max      15420.234110\n",
              "Name: km_per_driving_day, dtype: float64"
            ]
          },
          "metadata": {},
          "execution_count": 32
        }
      ],
      "source": [
        "# Converting the infinite values to zero\n",
        "df.loc[df['km_per_driving_day']==np.inf,'km_per_driving_day']=0\n",
        "df['km_per_driving_day'].describe()      #confirming that it worked"
      ]
    },
    {
      "cell_type": "code",
      "execution_count": 33,
      "metadata": {
        "colab": {
          "base_uri": "https://localhost:8080/",
          "height": 735
        },
        "id": "dptT0WTbLJmn",
        "outputId": "e32855cc-4839-45b1-fa45-5a062d2589a0"
      },
      "outputs": [
        {
          "output_type": "execute_result",
          "data": {
            "text/plain": [
              "Text(0.5, 1.0, 'churn rate by km_per_driving_day')"
            ]
          },
          "metadata": {},
          "execution_count": 33
        },
        {
          "output_type": "display_data",
          "data": {
            "text/plain": [
              "<Figure size 1200x800 with 1 Axes>"
            ],
            "image/png": "[encoded data removed]"
          },
          "metadata": {}
        }
      ],
      "source": [
        "plt.figure(figsize=(12,8))\n",
        "sns.histplot(data=df,\n",
        "             x = 'km_per_driving_day',\n",
        "             bins=range(0,1201,20),\n",
        "             hue='label',\n",
        "             multiple='fill')\n",
        "plt.ylabel(\"%\",rotation=0)\n",
        "plt.title(\"churn rate by km_per_driving_day\")"
      ]
    },
    {
      "cell_type": "markdown",
      "metadata": {
        "id": "wWzgf-eBLJmo"
      },
      "source": [
        "There is a notable trend where the churn rate increases with higher average daily driving distances, consistent with findings from previous analyses. Further investigation into the reasons why long-distance users discontinue using the app would be valuable.\n",
        "\n",
        "This version succinctly communicates the observation and suggests a logical next step for deeper analysis. It acknowledges the consistency with previous findings and emphasizes the importance of understanding the factors influencing app discontinuation among users with longer daily driving distances."
      ]
    },
    {
      "cell_type": "markdown",
      "metadata": {
        "id": "QdYS8xIlLJmo"
      },
      "source": [
        "**Churn rate per number of driving day**"
      ]
    },
    {
      "cell_type": "code",
      "execution_count": 34,
      "metadata": {
        "colab": {
          "base_uri": "https://localhost:8080/",
          "height": 581
        },
        "id": "-c5zXxHjLJmp",
        "outputId": "67561523-4254-4da2-ab1e-ca4555188055"
      },
      "outputs": [
        {
          "output_type": "execute_result",
          "data": {
            "text/plain": [
              "Text(0.5, 1.0, 'Churn Rate per number of Driving Day')"
            ]
          },
          "metadata": {},
          "execution_count": 34
        },
        {
          "output_type": "display_data",
          "data": {
            "text/plain": [
              "<Figure size 1000x600 with 1 Axes>"
            ],
            "image/png": "[encoded data removed]"
          },
          "metadata": {}
        }
      ],
      "source": [
        "plt.figure(figsize=(10,6))\n",
        "sns.histplot(data=df,\n",
        "            x = 'driving_days',\n",
        "            bins = range(1,32),\n",
        "            hue = 'label',\n",
        "            multiple = 'fill',\n",
        "            discrete = True)\n",
        "plt.ylabel(\"%\",rotation = 0)\n",
        "plt.title('Churn Rate per number of Driving Day')"
      ]
    },
    {
      "cell_type": "markdown",
      "metadata": {
        "id": "5K5vbVUOLJmp"
      },
      "source": [
        "The churn rate is highest among users who didn't use Waze frequently last month. Notably, 40% of those who didn't use the app at all churned, whereas no users who used the app daily churned. This pattern suggests that higher app usage correlates with lower churn rates, indicating greater satisfaction among frequent users. Conversely, low app usage could signify reduced reliance on a navigation app due to lifestyle changes, such as moving to a city with robust public transportation.\n",
        "\n",
        "This version maintains the key points about churn rates and user behavior related to Waze usage, while also emphasizing the potential reasons behind these patterns in a succinct manner."
      ]
    },
    {
      "cell_type": "markdown",
      "metadata": {
        "id": "Ck8-PLefLJmq"
      },
      "source": [
        "**`Proportion of sessions that occured in the last month`**\n",
        "\n",
        "Creating a new column `percent_sessions_in_last_month` that represents the percentage of each user's total sessions that were logged in for their last month of use."
      ]
    },
    {
      "cell_type": "code",
      "execution_count": 35,
      "metadata": {
        "colab": {
          "base_uri": "https://localhost:8080/"
        },
        "id": "l31sf0ztLJmq",
        "outputId": "d9b75797-4a6c-418f-f8ce-eb9c981a7b78"
      },
      "outputs": [
        {
          "output_type": "execute_result",
          "data": {
            "text/plain": [
              "0.42309702992763176"
            ]
          },
          "metadata": {},
          "execution_count": 35
        }
      ],
      "source": [
        "df['session_percent_of_lastmonth'] = df['sessions'] / df['total_sessions']\n",
        "# median of new column\n",
        "df['session_percent_of_lastmonth'].median()"
      ]
    },
    {
      "cell_type": "code",
      "execution_count": 36,
      "metadata": {
        "colab": {
          "base_uri": "https://localhost:8080/",
          "height": 350
        },
        "id": "0LNx40i1LJmr",
        "outputId": "79c2a6a7-3a8b-49c3-ace7-ab201c98657b"
      },
      "outputs": [
        {
          "output_type": "stream",
          "name": "stdout",
          "text": [
            "Median: 0.4\n"
          ]
        },
        {
          "output_type": "display_data",
          "data": {
            "text/plain": [
              "<Figure size 600x300 with 1 Axes>"
            ],
            "image/png": "[encoded data removed]"
          },
          "metadata": {}
        }
      ],
      "source": [
        "# Histogram\n",
        "histogrammer('session_percent_of_lastmonth',\n",
        "             hue = df['label'],\n",
        "             median_text= False)\n"
      ]
    },
    {
      "cell_type": "code",
      "execution_count": 37,
      "metadata": {
        "colab": {
          "base_uri": "https://localhost:8080/"
        },
        "id": "yP9eoDMYLJmr",
        "outputId": "1f76035f-26af-4f20-f724-370efb33d168"
      },
      "outputs": [
        {
          "output_type": "stream",
          "name": "stdout",
          "text": [
            "median of n_days_after_onboarding: 1741.0\n"
          ]
        }
      ],
      "source": [
        "print(f'median of n_days_after_onboarding:',df['n_days_after_onboarding'].median())"
      ]
    },
    {
      "cell_type": "markdown",
      "metadata": {
        "id": "IRhbSLZdLJmr"
      },
      "source": [
        "Half of the people in the dataset had 40% or more of their sessions in just the last month, yet the overall median time since onboarding is almost five years.\n"
      ]
    },
    {
      "cell_type": "code",
      "execution_count": 38,
      "metadata": {
        "colab": {
          "base_uri": "https://localhost:8080/",
          "height": 328
        },
        "id": "4lQD0tHhLJms",
        "outputId": "afe9b8e6-080b-4e98-dffe-6b60bd0381e0"
      },
      "outputs": [
        {
          "output_type": "execute_result",
          "data": {
            "text/plain": [
              "<Axes: xlabel='n_days_after_onboarding', ylabel='Count'>"
            ]
          },
          "metadata": {},
          "execution_count": 38
        },
        {
          "output_type": "display_data",
          "data": {
            "text/plain": [
              "<Figure size 500x300 with 1 Axes>"
            ],
            "image/png": "[encoded data removed]"
          },
          "metadata": {}
        }
      ],
      "source": [
        "# Histogram\n",
        "data = df.loc[df['session_percent_of_lastmonth']>=0.4]\n",
        "plt.figure(figsize=(5,3))\n",
        "sns.histplot(x=data['n_days_after_onboarding'])"
      ]
    },
    {
      "cell_type": "markdown",
      "metadata": {
        "id": "lrGuj9IZLJms"
      },
      "source": [
        "It's unusual that users who have been using Waze for a long time suddenly started using the app much more in the last month. This pattern forms a uniform distribution, meaning there's an even spread across different time periods since they first started using the app. It would be interesting to ask Waze why this sudden increase in activity occurred among these long-time users."
      ]
    },
    {
      "cell_type": "markdown",
      "metadata": {
        "id": "YF7dgCZgLJms"
      },
      "source": [
        "***`Handling Outliners`***\n",
        "\n",
        "The box plots from the previous section indicated that many of these variables have outliers. These outliers do not seem to be data entry errors; they are present because of the right-skewed distributions.\n"
      ]
    },
    {
      "cell_type": "code",
      "execution_count": 39,
      "metadata": {
        "colab": {
          "base_uri": "https://localhost:8080/"
        },
        "id": "0nsxasgdLJmt",
        "outputId": "cf04e6a4-91f9-4841-aa1f-333c2ca124a1"
      },
      "outputs": [
        {
          "output_type": "stream",
          "name": "stdout",
          "text": [
            "                 sessions | percentile: 0.95 | threshold: 243.0\n",
            "                   drives | percentile: 0.95 | threshold: 201.0\n",
            "           total_sessions | percentile: 0.95 | threshold: 454.3632037399997\n",
            "         driven_km_drives | percentile: 0.95 | threshold: 8889.7942356\n",
            "  duration_minutes_drives | percentile: 0.95 | threshold: 4668.899348999998\n"
          ]
        }
      ],
      "source": [
        "def outlier_imputer(column_name, percentile):\n",
        "    # Calculate threshold\n",
        "    threshold = df[column_name].quantile(percentile)\n",
        "    # Impute threshold for values > than threshold\n",
        "    df.loc[df[column_name] > threshold, column_name] = threshold\n",
        "\n",
        "    print('{:>25} | percentile: {} | threshold: {}'.format(column_name, percentile, threshold))\n",
        "\n",
        "\n",
        "for column in ['sessions', 'drives', 'total_sessions',\n",
        "               'driven_km_drives', 'duration_minutes_drives']:\n",
        "               outlier_imputer(column, 0.95)"
      ]
    },
    {
      "cell_type": "code",
      "execution_count": 40,
      "metadata": {
        "colab": {
          "base_uri": "https://localhost:8080/",
          "height": 320
        },
        "id": "GMMMQmg6LJmt",
        "outputId": "9c0904b8-7daf-4899-c5f1-3172a3988f12"
      },
      "outputs": [
        {
          "output_type": "execute_result",
          "data": {
            "text/plain": [
              "                 ID      sessions        drives  total_sessions  \\\n",
              "count  14999.000000  14999.000000  14999.000000    14999.000000   \n",
              "mean    7499.000000     76.568705     64.058204      184.031320   \n",
              "std     4329.982679     67.297958     55.306924      118.600463   \n",
              "min        0.000000      0.000000      0.000000        0.220211   \n",
              "25%     3749.500000     23.000000     20.000000       90.661156   \n",
              "50%     7499.000000     56.000000     48.000000      159.568115   \n",
              "75%    11248.500000    112.000000     93.000000      254.192341   \n",
              "max    14998.000000    243.000000    201.000000      454.363204   \n",
              "\n",
              "       n_days_after_onboarding  total_navigations_fav1  \\\n",
              "count             14999.000000            14999.000000   \n",
              "mean               1749.837789              121.605974   \n",
              "std                1008.513876              148.121544   \n",
              "min                   4.000000                0.000000   \n",
              "25%                 878.000000                9.000000   \n",
              "50%                1741.000000               71.000000   \n",
              "75%                2623.500000              178.000000   \n",
              "max                3500.000000             1236.000000   \n",
              "\n",
              "       total_navigations_fav2  driven_km_drives  duration_minutes_drives  \\\n",
              "count            14999.000000      14999.000000             14999.000000   \n",
              "mean                29.672512       3939.632764              1789.647426   \n",
              "std                 45.394651       2216.041510              1222.705167   \n",
              "min                  0.000000         60.441250                18.282082   \n",
              "25%                  0.000000       2212.600607               835.996260   \n",
              "50%                  9.000000       3493.858085              1478.249859   \n",
              "75%                 43.000000       5289.861262              2464.362632   \n",
              "max                415.000000       8889.794236              4668.899349   \n",
              "\n",
              "       activity_days  driving_days  km_per_driving_day  \\\n",
              "count   14999.000000  14999.000000        14999.000000   \n",
              "mean       15.537102     12.179879          578.963113   \n",
              "std         9.004655      7.824036         1030.094384   \n",
              "min         0.000000      0.000000            0.000000   \n",
              "25%         8.000000      5.000000          136.238895   \n",
              "50%        16.000000     12.000000          272.889272   \n",
              "75%        23.000000     19.000000          558.686918   \n",
              "max        31.000000     30.000000        15420.234110   \n",
              "\n",
              "       session_percent_of_lastmonth  \n",
              "count                  14999.000000  \n",
              "mean                       0.449255  \n",
              "std                        0.286919  \n",
              "min                        0.000000  \n",
              "25%                        0.196221  \n",
              "50%                        0.423097  \n",
              "75%                        0.687216  \n",
              "max                        1.530637  "
            ],
            "text/html": [
              "\n",
              "  <div id=\"df-d5a72b81-b1d5-4937-8fc3-86411ebbe35a\" class=\"colab-df-container\">\n",
              "    <div>\n",
              "<style scoped>\n",
              "    .dataframe tbody tr th:only-of-type {\n",
              "        vertical-align: middle;\n",
              "    }\n",
              "\n",
              "    .dataframe tbody tr th {\n",
              "        vertical-align: top;\n",
              "    }\n",
              "\n",
              "    .dataframe thead th {\n",
              "        text-align: right;\n",
              "    }\n",
              "</style>\n",
              "<table border=\"1\" class=\"dataframe\">\n",
              "  <thead>\n",
              "    <tr style=\"text-align: right;\">\n",
              "      <th></th>\n",
              "      <th>ID</th>\n",
              "      <th>sessions</th>\n",
              "      <th>drives</th>\n",
              "      <th>total_sessions</th>\n",
              "      <th>n_days_after_onboarding</th>\n",
              "      <th>total_navigations_fav1</th>\n",
              "      <th>total_navigations_fav2</th>\n",
              "      <th>driven_km_drives</th>\n",
              "      <th>duration_minutes_drives</th>\n",
              "      <th>activity_days</th>\n",
              "      <th>driving_days</th>\n",
              "      <th>km_per_driving_day</th>\n",
              "      <th>session_percent_of_lastmonth</th>\n",
              "    </tr>\n",
              "  </thead>\n",
              "  <tbody>\n",
              "    <tr>\n",
              "      <th>count</th>\n",
              "      <td>14999.000000</td>\n",
              "      <td>14999.000000</td>\n",
              "      <td>14999.000000</td>\n",
              "      <td>14999.000000</td>\n",
              "      <td>14999.000000</td>\n",
              "      <td>14999.000000</td>\n",
              "      <td>14999.000000</td>\n",
              "      <td>14999.000000</td>\n",
              "      <td>14999.000000</td>\n",
              "      <td>14999.000000</td>\n",
              "      <td>14999.000000</td>\n",
              "      <td>14999.000000</td>\n",
              "      <td>14999.000000</td>\n",
              "    </tr>\n",
              "    <tr>\n",
              "      <th>mean</th>\n",
              "      <td>7499.000000</td>\n",
              "      <td>76.568705</td>\n",
              "      <td>64.058204</td>\n",
              "      <td>184.031320</td>\n",
              "      <td>1749.837789</td>\n",
              "      <td>121.605974</td>\n",
              "      <td>29.672512</td>\n",
              "      <td>3939.632764</td>\n",
              "      <td>1789.647426</td>\n",
              "      <td>15.537102</td>\n",
              "      <td>12.179879</td>\n",
              "      <td>578.963113</td>\n",
              "      <td>0.449255</td>\n",
              "    </tr>\n",
              "    <tr>\n",
              "      <th>std</th>\n",
              "      <td>4329.982679</td>\n",
              "      <td>67.297958</td>\n",
              "      <td>55.306924</td>\n",
              "      <td>118.600463</td>\n",
              "      <td>1008.513876</td>\n",
              "      <td>148.121544</td>\n",
              "      <td>45.394651</td>\n",
              "      <td>2216.041510</td>\n",
              "      <td>1222.705167</td>\n",
              "      <td>9.004655</td>\n",
              "      <td>7.824036</td>\n",
              "      <td>1030.094384</td>\n",
              "      <td>0.286919</td>\n",
              "    </tr>\n",
              "    <tr>\n",
              "      <th>min</th>\n",
              "      <td>0.000000</td>\n",
              "      <td>0.000000</td>\n",
              "      <td>0.000000</td>\n",
              "      <td>0.220211</td>\n",
              "      <td>4.000000</td>\n",
              "      <td>0.000000</td>\n",
              "      <td>0.000000</td>\n",
              "      <td>60.441250</td>\n",
              "      <td>18.282082</td>\n",
              "      <td>0.000000</td>\n",
              "      <td>0.000000</td>\n",
              "      <td>0.000000</td>\n",
              "      <td>0.000000</td>\n",
              "    </tr>\n",
              "    <tr>\n",
              "      <th>25%</th>\n",
              "      <td>3749.500000</td>\n",
              "      <td>23.000000</td>\n",
              "      <td>20.000000</td>\n",
              "      <td>90.661156</td>\n",
              "      <td>878.000000</td>\n",
              "      <td>9.000000</td>\n",
              "      <td>0.000000</td>\n",
              "      <td>2212.600607</td>\n",
              "      <td>835.996260</td>\n",
              "      <td>8.000000</td>\n",
              "      <td>5.000000</td>\n",
              "      <td>136.238895</td>\n",
              "      <td>0.196221</td>\n",
              "    </tr>\n",
              "    <tr>\n",
              "      <th>50%</th>\n",
              "      <td>7499.000000</td>\n",
              "      <td>56.000000</td>\n",
              "      <td>48.000000</td>\n",
              "      <td>159.568115</td>\n",
              "      <td>1741.000000</td>\n",
              "      <td>71.000000</td>\n",
              "      <td>9.000000</td>\n",
              "      <td>3493.858085</td>\n",
              "      <td>1478.249859</td>\n",
              "      <td>16.000000</td>\n",
              "      <td>12.000000</td>\n",
              "      <td>272.889272</td>\n",
              "      <td>0.423097</td>\n",
              "    </tr>\n",
              "    <tr>\n",
              "      <th>75%</th>\n",
              "      <td>11248.500000</td>\n",
              "      <td>112.000000</td>\n",
              "      <td>93.000000</td>\n",
              "      <td>254.192341</td>\n",
              "      <td>2623.500000</td>\n",
              "      <td>178.000000</td>\n",
              "      <td>43.000000</td>\n",
              "      <td>5289.861262</td>\n",
              "      <td>2464.362632</td>\n",
              "      <td>23.000000</td>\n",
              "      <td>19.000000</td>\n",
              "      <td>558.686918</td>\n",
              "      <td>0.687216</td>\n",
              "    </tr>\n",
              "    <tr>\n",
              "      <th>max</th>\n",
              "      <td>14998.000000</td>\n",
              "      <td>243.000000</td>\n",
              "      <td>201.000000</td>\n",
              "      <td>454.363204</td>\n",
              "      <td>3500.000000</td>\n",
              "      <td>1236.000000</td>\n",
              "      <td>415.000000</td>\n",
              "      <td>8889.794236</td>\n",
              "      <td>4668.899349</td>\n",
              "      <td>31.000000</td>\n",
              "      <td>30.000000</td>\n",
              "      <td>15420.234110</td>\n",
              "      <td>1.530637</td>\n",
              "    </tr>\n",
              "  </tbody>\n",
              "</table>\n",
              "</div>\n",
              "    <div class=\"colab-df-buttons\">\n",
              "\n",
              "  <div class=\"colab-df-container\">\n",
              "    <button class=\"colab-df-convert\" onclick=\"convertToInteractive('df-d5a72b81-b1d5-4937-8fc3-86411ebbe35a')\"\n",
              "            title=\"Convert this dataframe to an interactive table.\"\n",
              "            style=\"display:none;\">\n",
              "\n",
              "  <svg xmlns=\"http://www.w3.org/2000/svg\" height=\"24px\" viewBox=\"0 -960 960 960\">\n",
              "    <path d=\"M120-120v-720h720v720H120Zm60-500h600v-160H180v160Zm220 220h160v-160H400v160Zm0 220h160v-160H400v160ZM180-400h160v-160H180v160Zm440 0h160v-160H620v160ZM180-180h160v-160H180v160Zm440 0h160v-160H620v160Z\"/>\n",
              "  </svg>\n",
              "    </button>\n",
              "\n",
              "  <style>\n",
              "    .colab-df-container {\n",
              "      display:flex;\n",
              "      gap: 12px;\n",
              "    }\n",
              "\n",
              "    .colab-df-convert {\n",
              "      background-color: #E8F0FE;\n",
              "      border: none;\n",
              "      border-radius: 50%;\n",
              "      cursor: pointer;\n",
              "      display: none;\n",
              "      fill: #1967D2;\n",
              "      height: 32px;\n",
              "      padding: 0 0 0 0;\n",
              "      width: 32px;\n",
              "    }\n",
              "\n",
              "    .colab-df-convert:hover {\n",
              "      background-color: #E2EBFA;\n",
              "      box-shadow: 0px 1px 2px rgba(60, 64, 67, 0.3), 0px 1px 3px 1px rgba(60, 64, 67, 0.15);\n",
              "      fill: #174EA6;\n",
              "    }\n",
              "\n",
              "    .colab-df-buttons div {\n",
              "      margin-bottom: 4px;\n",
              "    }\n",
              "\n",
              "    [theme=dark] .colab-df-convert {\n",
              "      background-color: #3B4455;\n",
              "      fill: #D2E3FC;\n",
              "    }\n",
              "\n",
              "    [theme=dark] .colab-df-convert:hover {\n",
              "      background-color: #434B5C;\n",
              "      box-shadow: 0px 1px 3px 1px rgba(0, 0, 0, 0.15);\n",
              "      filter: drop-shadow(0px 1px 2px rgba(0, 0, 0, 0.3));\n",
              "      fill: #FFFFFF;\n",
              "    }\n",
              "  </style>\n",
              "\n",
              "    <script>\n",
              "      const buttonEl =\n",
              "        document.querySelector('#df-d5a72b81-b1d5-4937-8fc3-86411ebbe35a button.colab-df-convert');\n",
              "      buttonEl.style.display =\n",
              "        google.colab.kernel.accessAllowed ? 'block' : 'none';\n",
              "\n",
              "      async function convertToInteractive(key) {\n",
              "        const element = document.querySelector('#df-d5a72b81-b1d5-4937-8fc3-86411ebbe35a');\n",
              "        const dataTable =\n",
              "          await google.colab.kernel.invokeFunction('convertToInteractive',\n",
              "                                                    [key], {});\n",
              "        if (!dataTable) return;\n",
              "\n",
              "        const docLinkHtml = 'Like what you see? Visit the ' +\n",
              "          '<a target=\"_blank\" href=https://colab.research.google.com/notebooks/data_table.ipynb>data table notebook</a>'\n",
              "          + ' to learn more about interactive tables.';\n",
              "        element.innerHTML = '';\n",
              "        dataTable['output_type'] = 'display_data';\n",
              "        await google.colab.output.renderOutput(dataTable, element);\n",
              "        const docLink = document.createElement('div');\n",
              "        docLink.innerHTML = docLinkHtml;\n",
              "        element.appendChild(docLink);\n",
              "      }\n",
              "    </script>\n",
              "  </div>\n",
              "\n",
              "\n",
              "<div id=\"df-474db700-601e-4f4c-a96d-3e5b7d113ae5\">\n",
              "  <button class=\"colab-df-quickchart\" onclick=\"quickchart('df-474db700-601e-4f4c-a96d-3e5b7d113ae5')\"\n",
              "            title=\"Suggest charts\"\n",
              "            style=\"display:none;\">\n",
              "\n",
              "<svg xmlns=\"http://www.w3.org/2000/svg\" height=\"24px\"viewBox=\"0 0 24 24\"\n",
              "     width=\"24px\">\n",
              "    <g>\n",
              "        <path d=\"M19 3H5c-1.1 0-2 .9-2 2v14c0 1.1.9 2 2 2h14c1.1 0 2-.9 2-2V5c0-1.1-.9-2-2-2zM9 17H7v-7h2v7zm4 0h-2V7h2v10zm4 0h-2v-4h2v4z\"/>\n",
              "    </g>\n",
              "</svg>\n",
              "  </button>\n",
              "\n",
              "<style>\n",
              "  .colab-df-quickchart {\n",
              "      --bg-color: #E8F0FE;\n",
              "      --fill-color: #1967D2;\n",
              "      --hover-bg-color: #E2EBFA;\n",
              "      --hover-fill-color: #174EA6;\n",
              "      --disabled-fill-color: #AAA;\n",
              "      --disabled-bg-color: #DDD;\n",
              "  }\n",
              "\n",
              "  [theme=dark] .colab-df-quickchart {\n",
              "      --bg-color: #3B4455;\n",
              "      --fill-color: #D2E3FC;\n",
              "      --hover-bg-color: #434B5C;\n",
              "      --hover-fill-color: #FFFFFF;\n",
              "      --disabled-bg-color: #3B4455;\n",
              "      --disabled-fill-color: #666;\n",
              "  }\n",
              "\n",
              "  .colab-df-quickchart {\n",
              "    background-color: var(--bg-color);\n",
              "    border: none;\n",
              "    border-radius: 50%;\n",
              "    cursor: pointer;\n",
              "    display: none;\n",
              "    fill: var(--fill-color);\n",
              "    height: 32px;\n",
              "    padding: 0;\n",
              "    width: 32px;\n",
              "  }\n",
              "\n",
              "  .colab-df-quickchart:hover {\n",
              "    background-color: var(--hover-bg-color);\n",
              "    box-shadow: 0 1px 2px rgba(60, 64, 67, 0.3), 0 1px 3px 1px rgba(60, 64, 67, 0.15);\n",
              "    fill: var(--button-hover-fill-color);\n",
              "  }\n",
              "\n",
              "  .colab-df-quickchart-complete:disabled,\n",
              "  .colab-df-quickchart-complete:disabled:hover {\n",
              "    background-color: var(--disabled-bg-color);\n",
              "    fill: var(--disabled-fill-color);\n",
              "    box-shadow: none;\n",
              "  }\n",
              "\n",
              "  .colab-df-spinner {\n",
              "    border: 2px solid var(--fill-color);\n",
              "    border-color: transparent;\n",
              "    border-bottom-color: var(--fill-color);\n",
              "    animation:\n",
              "      spin 1s steps(1) infinite;\n",
              "  }\n",
              "\n",
              "  @keyframes spin {\n",
              "    0% {\n",
              "      border-color: transparent;\n",
              "      border-bottom-color: var(--fill-color);\n",
              "      border-left-color: var(--fill-color);\n",
              "    }\n",
              "    20% {\n",
              "      border-color: transparent;\n",
              "      border-left-color: var(--fill-color);\n",
              "      border-top-color: var(--fill-color);\n",
              "    }\n",
              "    30% {\n",
              "      border-color: transparent;\n",
              "      border-left-color: var(--fill-color);\n",
              "      border-top-color: var(--fill-color);\n",
              "      border-right-color: var(--fill-color);\n",
              "    }\n",
              "    40% {\n",
              "      border-color: transparent;\n",
              "      border-right-color: var(--fill-color);\n",
              "      border-top-color: var(--fill-color);\n",
              "    }\n",
              "    60% {\n",
              "      border-color: transparent;\n",
              "      border-right-color: var(--fill-color);\n",
              "    }\n",
              "    80% {\n",
              "      border-color: transparent;\n",
              "      border-right-color: var(--fill-color);\n",
              "      border-bottom-color: var(--fill-color);\n",
              "    }\n",
              "    90% {\n",
              "      border-color: transparent;\n",
              "      border-bottom-color: var(--fill-color);\n",
              "    }\n",
              "  }\n",
              "</style>\n",
              "\n",
              "  <script>\n",
              "    async function quickchart(key) {\n",
              "      const quickchartButtonEl =\n",
              "        document.querySelector('#' + key + ' button');\n",
              "      quickchartButtonEl.disabled = true;  // To prevent multiple clicks.\n",
              "      quickchartButtonEl.classList.add('colab-df-spinner');\n",
              "      try {\n",
              "        const charts = await google.colab.kernel.invokeFunction(\n",
              "            'suggestCharts', [key], {});\n",
              "      } catch (error) {\n",
              "        console.error('Error during call to suggestCharts:', error);\n",
              "      }\n",
              "      quickchartButtonEl.classList.remove('colab-df-spinner');\n",
              "      quickchartButtonEl.classList.add('colab-df-quickchart-complete');\n",
              "    }\n",
              "    (() => {\n",
              "      let quickchartButtonEl =\n",
              "        document.querySelector('#df-474db700-601e-4f4c-a96d-3e5b7d113ae5 button');\n",
              "      quickchartButtonEl.style.display =\n",
              "        google.colab.kernel.accessAllowed ? 'block' : 'none';\n",
              "    })();\n",
              "  </script>\n",
              "</div>\n",
              "\n",
              "    </div>\n",
              "  </div>\n"
            ],
            "application/vnd.google.colaboratory.intrinsic+json": {
              "type": "dataframe",
              "summary": "{\n  \"name\": \"df\",\n  \"rows\": 8,\n  \"fields\": [\n    {\n      \"column\": \"ID\",\n      \"properties\": {\n        \"dtype\": \"number\",\n        \"std\": 5405.493196877867,\n        \"min\": 0.0,\n        \"max\": 14999.0,\n        \"num_unique_values\": 7,\n        \"samples\": [\n          14999.0,\n          7499.0,\n          11248.5\n        ],\n        \"semantic_type\": \"\",\n        \"description\": \"\"\n      }\n    },\n    {\n      \"column\": \"sessions\",\n      \"properties\": {\n        \"dtype\": \"number\",\n        \"std\": 5274.2745459748285,\n        \"min\": 0.0,\n        \"max\": 14999.0,\n        \"num_unique_values\": 8,\n        \"samples\": [\n          76.56870458030535,\n          56.0,\n          14999.0\n        ],\n        \"semantic_type\": \"\",\n        \"description\": \"\"\n      }\n    },\n    {\n      \"column\": \"drives\",\n      \"properties\": {\n        \"dtype\": \"number\",\n        \"std\": 5278.983996500595,\n        \"min\": 0.0,\n        \"max\": 14999.0,\n        \"num_unique_values\": 8,\n        \"samples\": [\n          64.05820388025869,\n          48.0,\n          14999.0\n        ],\n        \"semantic_type\": \"\",\n        \"description\": \"\"\n      }\n    },\n    {\n      \"column\": \"total_sessions\",\n      \"properties\": {\n        \"dtype\": \"number\",\n        \"std\": 5240.93281037821,\n        \"min\": 0.2202109438,\n        \"max\": 14999.0,\n        \"num_unique_values\": 8,\n        \"samples\": [\n          184.03132023546087,\n          159.5681147,\n          14999.0\n        ],\n        \"semantic_type\": \"\",\n        \"description\": \"\"\n      }\n    },\n    {\n      \"column\": \"n_days_after_onboarding\",\n      \"properties\": {\n        \"dtype\": \"number\",\n        \"std\": 4842.9182117475775,\n        \"min\": 4.0,\n        \"max\": 14999.0,\n        \"num_unique_values\": 8,\n        \"samples\": [\n          1749.8377891859457,\n          1741.0,\n          14999.0\n        ],\n        \"semantic_type\": \"\",\n        \"description\": \"\"\n      }\n    },\n    {\n      \"column\": \"total_navigations_fav1\",\n      \"properties\": {\n        \"dtype\": \"number\",\n        \"std\": 5229.689990496429,\n        \"min\": 0.0,\n        \"max\": 14999.0,\n        \"num_unique_values\": 8,\n        \"samples\": [\n          121.60597373158211,\n          71.0,\n          14999.0\n        ],\n        \"semantic_type\": \"\",\n        \"description\": \"\"\n      }\n    },\n    {\n      \"column\": \"total_navigations_fav2\",\n      \"properties\": {\n        \"dtype\": \"number\",\n        \"std\": 5277.397912183456,\n        \"min\": 0.0,\n        \"max\": 14999.0,\n        \"num_unique_values\": 7,\n        \"samples\": [\n          14999.0,\n          29.672511500766717,\n          43.0\n        ],\n        \"semantic_type\": \"\",\n        \"description\": \"\"\n      }\n    },\n    {\n      \"column\": \"driven_km_drives\",\n      \"properties\": {\n        \"dtype\": \"number\",\n        \"std\": 4756.274568873528,\n        \"min\": 60.44125046,\n        \"max\": 14999.0,\n        \"num_unique_values\": 8,\n        \"samples\": [\n          3939.632763521272,\n          3493.858085,\n          14999.0\n        ],\n        \"semantic_type\": \"\",\n        \"description\": \"\"\n      }\n    },\n    {\n      \"column\": \"duration_minutes_drives\",\n      \"properties\": {\n        \"dtype\": \"number\",\n        \"std\": 4870.462370060838,\n        \"min\": 18.28208247,\n        \"max\": 14999.0,\n        \"num_unique_values\": 8,\n        \"samples\": [\n          1789.647426116595,\n          1478.249859,\n          14999.0\n        ],\n        \"semantic_type\": \"\",\n        \"description\": \"\"\n      }\n    },\n    {\n      \"column\": \"activity_days\",\n      \"properties\": {\n        \"dtype\": \"number\",\n        \"std\": 5297.776663745072,\n        \"min\": 0.0,\n        \"max\": 14999.0,\n        \"num_unique_values\": 8,\n        \"samples\": [\n          15.537102473498233,\n          16.0,\n          14999.0\n        ],\n        \"semantic_type\": \"\",\n        \"description\": \"\"\n      }\n    },\n    {\n      \"column\": \"driving_days\",\n      \"properties\": {\n        \"dtype\": \"number\",\n        \"std\": 5298.6113096650015,\n        \"min\": 0.0,\n        \"max\": 14999.0,\n        \"num_unique_values\": 8,\n        \"samples\": [\n          12.179878658577238,\n          12.0,\n          14999.0\n        ],\n        \"semantic_type\": \"\",\n        \"description\": \"\"\n      }\n    },\n    {\n      \"column\": \"km_per_driving_day\",\n      \"properties\": {\n        \"dtype\": \"number\",\n        \"std\": 6850.04892875014,\n        \"min\": 0.0,\n        \"max\": 15420.23411,\n        \"num_unique_values\": 8,\n        \"samples\": [\n          578.9631134118423,\n          272.8892720869565,\n          14999.0\n        ],\n        \"semantic_type\": \"\",\n        \"description\": \"\"\n      }\n    },\n    {\n      \"column\": \"session_percent_of_lastmonth\",\n      \"properties\": {\n        \"dtype\": \"number\",\n        \"std\": 5302.766844398892,\n        \"min\": 0.0,\n        \"max\": 14999.0,\n        \"num_unique_values\": 8,\n        \"samples\": [\n          0.4492553378171563,\n          0.42309702992763176,\n          14999.0\n        ],\n        \"semantic_type\": \"\",\n        \"description\": \"\"\n      }\n    }\n  ]\n}"
            }
          },
          "metadata": {},
          "execution_count": 40
        }
      ],
      "source": [
        "df.describe()"
      ]
    },
    {
      "cell_type": "markdown",
      "metadata": {
        "id": "2C3VOo0pLJmu"
      },
      "source": [
        "***`CONCLUSION`***\n",
        "\n",
        "*_Our analysis showed that the overall churn rate is approximately 17%. Interestingly, this rate remains consistent across both iPhone and Android users_*\n",
        "_Additionally, our exploratory data analysis (EDA) indicates that users who drive long distances on their driving days are more likely to churn, whereas those who drive more frequently are less likely to churn. Understanding the reasons behind this discrepancy presents an opportunity for further investigation, and would be beneficial to discuss with the Waze data team._\n",
        "\n",
        "_This version clarifies the findings from your EDA, highlights the contrasting trends in user behavior related to churn, and underscores the importance of seeking insights from the Waze data team to gain a deeper understanding of these patterns._"
      ]
    },
    {
      "cell_type": "markdown",
      "metadata": {
        "id": "loMB81UgLJmu"
      },
      "source": [
        "Certainly! Let's address each of your statements and questions, followed by considerations your client might have:\n",
        "\n",
        "### What I Have Learned:\n",
        "\n",
        "1. **Missing Data in User Churn Label**:\n",
        "   - There is missing data in the user churn label, indicating a need for further data processing before proceeding with deeper analysis. This could involve imputation techniques or excluding incomplete records, depending on the extent and nature of missingness.\n",
        "\n",
        "2. **Outlying Observations for Drives**:\n",
        "   - Many observations for drives exhibit extreme values, suggesting the potential need for variable transformations to stabilize variation. Techniques like log transformation or winsorization could be considered to manage outliers effectively.\n",
        "\n",
        "3. **Correlation Between Number of Drives and Sessions**:\n",
        "   - The number of drives and sessions are strongly correlated, indicating that they may provide redundant information when included together in a model. Feature selection or dimensionality reduction techniques could help streamline the model without losing predictive power.\n",
        "\n",
        "4. **Average Drives for Retained vs. Churned Users**:\n",
        "   - Retained users, on average, have fewer drives than churned users. Exploring the reasons behind this difference could provide insights into user behavior and retention strategies."
      ]
    },
    {
      "cell_type": "code",
      "execution_count": 41,
      "metadata": {
        "id": "Mqub_JeJLJmv"
      },
      "outputs": [],
      "source": [
        "df['monthly_drives_per_session_ratio'] = (df['drives']/df['sessions'])"
      ]
    },
    {
      "cell_type": "code",
      "execution_count": 42,
      "metadata": {
        "colab": {
          "base_uri": "https://localhost:8080/"
        },
        "id": "RUoJ-SGzLJmx",
        "outputId": "f41623e4-0972-45ae-a5e7-22c73259325c"
      },
      "outputs": [
        {
          "output_type": "stream",
          "name": "stdout",
          "text": [
            "<class 'pandas.core.frame.DataFrame'>\n",
            "RangeIndex: 14999 entries, 0 to 14998\n",
            "Data columns (total 16 columns):\n",
            " #   Column                            Non-Null Count  Dtype  \n",
            "---  ------                            --------------  -----  \n",
            " 0   ID                                14999 non-null  int64  \n",
            " 1   label                             14299 non-null  object \n",
            " 2   sessions                          14999 non-null  int64  \n",
            " 3   drives                            14999 non-null  int64  \n",
            " 4   total_sessions                    14999 non-null  float64\n",
            " 5   n_days_after_onboarding           14999 non-null  int64  \n",
            " 6   total_navigations_fav1            14999 non-null  int64  \n",
            " 7   total_navigations_fav2            14999 non-null  int64  \n",
            " 8   driven_km_drives                  14999 non-null  float64\n",
            " 9   duration_minutes_drives           14999 non-null  float64\n",
            " 10  activity_days                     14999 non-null  int64  \n",
            " 11  driving_days                      14999 non-null  int64  \n",
            " 12  device                            14999 non-null  object \n",
            " 13  km_per_driving_day                14999 non-null  float64\n",
            " 14  session_percent_of_lastmonth      14999 non-null  float64\n",
            " 15  monthly_drives_per_session_ratio  14894 non-null  float64\n",
            "dtypes: float64(6), int64(8), object(2)\n",
            "memory usage: 1.8+ MB\n"
          ]
        }
      ],
      "source": [
        "df.info()"
      ]
    },
    {
      "cell_type": "code",
      "execution_count": 43,
      "metadata": {
        "colab": {
          "base_uri": "https://localhost:8080/",
          "height": 383
        },
        "id": "DzXO7qa3LJmz",
        "outputId": "b3bcea9b-4345-463d-a9de-b9d20aa82766"
      },
      "outputs": [
        {
          "output_type": "execute_result",
          "data": {
            "text/plain": [
              "   ID     label  sessions  drives  total_sessions  n_days_after_onboarding  \\\n",
              "0   0  retained       243     201      296.748273                     2276   \n",
              "1   1  retained       133     107      326.896596                     1225   \n",
              "2   2  retained       114      95      135.522926                     2651   \n",
              "3   3  retained        49      40       67.589221                       15   \n",
              "4   4  retained        84      68      168.247020                     1562   \n",
              "5   5  retained       113     103      279.544437                     2637   \n",
              "6   6  retained         3       2      236.725314                      360   \n",
              "7   7  retained        39      35      176.072845                     2999   \n",
              "8   8  retained        57      46      183.532018                      424   \n",
              "9   9   churned        84      68      244.802115                     2997   \n",
              "\n",
              "   total_navigations_fav1  total_navigations_fav2  driven_km_drives  \\\n",
              "0                     208                       0       2628.845068   \n",
              "1                      19                      64       8889.794236   \n",
              "2                       0                       0       3059.148818   \n",
              "3                     322                       7        913.591123   \n",
              "4                     166                       5       3950.202008   \n",
              "5                       0                       0        901.238699   \n",
              "6                     185                      18       5249.172828   \n",
              "7                       0                       0       7892.052468   \n",
              "8                       0                      26       2651.709764   \n",
              "9                      72                       0       6043.460295   \n",
              "\n",
              "   duration_minutes_drives  activity_days  driving_days   device  \\\n",
              "0              1985.775061             28            19  Android   \n",
              "1              3160.472914             13            11   iPhone   \n",
              "2              1610.735904             14             8  Android   \n",
              "3               587.196542              7             3   iPhone   \n",
              "4              1219.555924             27            18  Android   \n",
              "5               439.101397             15            11   iPhone   \n",
              "6               726.577205             28            23   iPhone   \n",
              "7              2466.981741             22            20   iPhone   \n",
              "8              1594.342984             25            20  Android   \n",
              "9              2341.838528              7             3   iPhone   \n",
              "\n",
              "   km_per_driving_day  session_percent_of_lastmonth  \\\n",
              "0          138.360267                      0.953670   \n",
              "1         1246.901868                      0.406856   \n",
              "2          382.393602                      0.841186   \n",
              "3          304.530374                      0.724968   \n",
              "4          219.455667                      0.499266   \n",
              "5           81.930791                      0.404229   \n",
              "6          228.224906                      0.012673   \n",
              "7          394.602623                      0.221499   \n",
              "8          132.585488                      0.310573   \n",
              "9         2014.486765                      0.343134   \n",
              "\n",
              "   monthly_drives_per_session_ratio  \n",
              "0                          0.827160  \n",
              "1                          0.804511  \n",
              "2                          0.833333  \n",
              "3                          0.816327  \n",
              "4                          0.809524  \n",
              "5                          0.911504  \n",
              "6                          0.666667  \n",
              "7                          0.897436  \n",
              "8                          0.807018  \n",
              "9                          0.809524  "
            ],
            "text/html": [
              "\n",
              "  <div id=\"df-b4067edd-9352-4168-999a-dc95be1c38a6\" class=\"colab-df-container\">\n",
              "    <div>\n",
              "<style scoped>\n",
              "    .dataframe tbody tr th:only-of-type {\n",
              "        vertical-align: middle;\n",
              "    }\n",
              "\n",
              "    .dataframe tbody tr th {\n",
              "        vertical-align: top;\n",
              "    }\n",
              "\n",
              "    .dataframe thead th {\n",
              "        text-align: right;\n",
              "    }\n",
              "</style>\n",
              "<table border=\"1\" class=\"dataframe\">\n",
              "  <thead>\n",
              "    <tr style=\"text-align: right;\">\n",
              "      <th></th>\n",
              "      <th>ID</th>\n",
              "      <th>label</th>\n",
              "      <th>sessions</th>\n",
              "      <th>drives</th>\n",
              "      <th>total_sessions</th>\n",
              "      <th>n_days_after_onboarding</th>\n",
              "      <th>total_navigations_fav1</th>\n",
              "      <th>total_navigations_fav2</th>\n",
              "      <th>driven_km_drives</th>\n",
              "      <th>duration_minutes_drives</th>\n",
              "      <th>activity_days</th>\n",
              "      <th>driving_days</th>\n",
              "      <th>device</th>\n",
              "      <th>km_per_driving_day</th>\n",
              "      <th>session_percent_of_lastmonth</th>\n",
              "      <th>monthly_drives_per_session_ratio</th>\n",
              "    </tr>\n",
              "  </thead>\n",
              "  <tbody>\n",
              "    <tr>\n",
              "      <th>0</th>\n",
              "      <td>0</td>\n",
              "      <td>retained</td>\n",
              "      <td>243</td>\n",
              "      <td>201</td>\n",
              "      <td>296.748273</td>\n",
              "      <td>2276</td>\n",
              "      <td>208</td>\n",
              "      <td>0</td>\n",
              "      <td>2628.845068</td>\n",
              "      <td>1985.775061</td>\n",
              "      <td>28</td>\n",
              "      <td>19</td>\n",
              "      <td>Android</td>\n",
              "      <td>138.360267</td>\n",
              "      <td>0.953670</td>\n",
              "      <td>0.827160</td>\n",
              "    </tr>\n",
              "    <tr>\n",
              "      <th>1</th>\n",
              "      <td>1</td>\n",
              "      <td>retained</td>\n",
              "      <td>133</td>\n",
              "      <td>107</td>\n",
              "      <td>326.896596</td>\n",
              "      <td>1225</td>\n",
              "      <td>19</td>\n",
              "      <td>64</td>\n",
              "      <td>8889.794236</td>\n",
              "      <td>3160.472914</td>\n",
              "      <td>13</td>\n",
              "      <td>11</td>\n",
              "      <td>iPhone</td>\n",
              "      <td>1246.901868</td>\n",
              "      <td>0.406856</td>\n",
              "      <td>0.804511</td>\n",
              "    </tr>\n",
              "    <tr>\n",
              "      <th>2</th>\n",
              "      <td>2</td>\n",
              "      <td>retained</td>\n",
              "      <td>114</td>\n",
              "      <td>95</td>\n",
              "      <td>135.522926</td>\n",
              "      <td>2651</td>\n",
              "      <td>0</td>\n",
              "      <td>0</td>\n",
              "      <td>3059.148818</td>\n",
              "      <td>1610.735904</td>\n",
              "      <td>14</td>\n",
              "      <td>8</td>\n",
              "      <td>Android</td>\n",
              "      <td>382.393602</td>\n",
              "      <td>0.841186</td>\n",
              "      <td>0.833333</td>\n",
              "    </tr>\n",
              "    <tr>\n",
              "      <th>3</th>\n",
              "      <td>3</td>\n",
              "      <td>retained</td>\n",
              "      <td>49</td>\n",
              "      <td>40</td>\n",
              "      <td>67.589221</td>\n",
              "      <td>15</td>\n",
              "      <td>322</td>\n",
              "      <td>7</td>\n",
              "      <td>913.591123</td>\n",
              "      <td>587.196542</td>\n",
              "      <td>7</td>\n",
              "      <td>3</td>\n",
              "      <td>iPhone</td>\n",
              "      <td>304.530374</td>\n",
              "      <td>0.724968</td>\n",
              "      <td>0.816327</td>\n",
              "    </tr>\n",
              "    <tr>\n",
              "      <th>4</th>\n",
              "      <td>4</td>\n",
              "      <td>retained</td>\n",
              "      <td>84</td>\n",
              "      <td>68</td>\n",
              "      <td>168.247020</td>\n",
              "      <td>1562</td>\n",
              "      <td>166</td>\n",
              "      <td>5</td>\n",
              "      <td>3950.202008</td>\n",
              "      <td>1219.555924</td>\n",
              "      <td>27</td>\n",
              "      <td>18</td>\n",
              "      <td>Android</td>\n",
              "      <td>219.455667</td>\n",
              "      <td>0.499266</td>\n",
              "      <td>0.809524</td>\n",
              "    </tr>\n",
              "    <tr>\n",
              "      <th>5</th>\n",
              "      <td>5</td>\n",
              "      <td>retained</td>\n",
              "      <td>113</td>\n",
              "      <td>103</td>\n",
              "      <td>279.544437</td>\n",
              "      <td>2637</td>\n",
              "      <td>0</td>\n",
              "      <td>0</td>\n",
              "      <td>901.238699</td>\n",
              "      <td>439.101397</td>\n",
              "      <td>15</td>\n",
              "      <td>11</td>\n",
              "      <td>iPhone</td>\n",
              "      <td>81.930791</td>\n",
              "      <td>0.404229</td>\n",
              "      <td>0.911504</td>\n",
              "    </tr>\n",
              "    <tr>\n",
              "      <th>6</th>\n",
              "      <td>6</td>\n",
              "      <td>retained</td>\n",
              "      <td>3</td>\n",
              "      <td>2</td>\n",
              "      <td>236.725314</td>\n",
              "      <td>360</td>\n",
              "      <td>185</td>\n",
              "      <td>18</td>\n",
              "      <td>5249.172828</td>\n",
              "      <td>726.577205</td>\n",
              "      <td>28</td>\n",
              "      <td>23</td>\n",
              "      <td>iPhone</td>\n",
              "      <td>228.224906</td>\n",
              "      <td>0.012673</td>\n",
              "      <td>0.666667</td>\n",
              "    </tr>\n",
              "    <tr>\n",
              "      <th>7</th>\n",
              "      <td>7</td>\n",
              "      <td>retained</td>\n",
              "      <td>39</td>\n",
              "      <td>35</td>\n",
              "      <td>176.072845</td>\n",
              "      <td>2999</td>\n",
              "      <td>0</td>\n",
              "      <td>0</td>\n",
              "      <td>7892.052468</td>\n",
              "      <td>2466.981741</td>\n",
              "      <td>22</td>\n",
              "      <td>20</td>\n",
              "      <td>iPhone</td>\n",
              "      <td>394.602623</td>\n",
              "      <td>0.221499</td>\n",
              "      <td>0.897436</td>\n",
              "    </tr>\n",
              "    <tr>\n",
              "      <th>8</th>\n",
              "      <td>8</td>\n",
              "      <td>retained</td>\n",
              "      <td>57</td>\n",
              "      <td>46</td>\n",
              "      <td>183.532018</td>\n",
              "      <td>424</td>\n",
              "      <td>0</td>\n",
              "      <td>26</td>\n",
              "      <td>2651.709764</td>\n",
              "      <td>1594.342984</td>\n",
              "      <td>25</td>\n",
              "      <td>20</td>\n",
              "      <td>Android</td>\n",
              "      <td>132.585488</td>\n",
              "      <td>0.310573</td>\n",
              "      <td>0.807018</td>\n",
              "    </tr>\n",
              "    <tr>\n",
              "      <th>9</th>\n",
              "      <td>9</td>\n",
              "      <td>churned</td>\n",
              "      <td>84</td>\n",
              "      <td>68</td>\n",
              "      <td>244.802115</td>\n",
              "      <td>2997</td>\n",
              "      <td>72</td>\n",
              "      <td>0</td>\n",
              "      <td>6043.460295</td>\n",
              "      <td>2341.838528</td>\n",
              "      <td>7</td>\n",
              "      <td>3</td>\n",
              "      <td>iPhone</td>\n",
              "      <td>2014.486765</td>\n",
              "      <td>0.343134</td>\n",
              "      <td>0.809524</td>\n",
              "    </tr>\n",
              "  </tbody>\n",
              "</table>\n",
              "</div>\n",
              "    <div class=\"colab-df-buttons\">\n",
              "\n",
              "  <div class=\"colab-df-container\">\n",
              "    <button class=\"colab-df-convert\" onclick=\"convertToInteractive('df-b4067edd-9352-4168-999a-dc95be1c38a6')\"\n",
              "            title=\"Convert this dataframe to an interactive table.\"\n",
              "            style=\"display:none;\">\n",
              "\n",
              "  <svg xmlns=\"http://www.w3.org/2000/svg\" height=\"24px\" viewBox=\"0 -960 960 960\">\n",
              "    <path d=\"M120-120v-720h720v720H120Zm60-500h600v-160H180v160Zm220 220h160v-160H400v160Zm0 220h160v-160H400v160ZM180-400h160v-160H180v160Zm440 0h160v-160H620v160ZM180-180h160v-160H180v160Zm440 0h160v-160H620v160Z\"/>\n",
              "  </svg>\n",
              "    </button>\n",
              "\n",
              "  <style>\n",
              "    .colab-df-container {\n",
              "      display:flex;\n",
              "      gap: 12px;\n",
              "    }\n",
              "\n",
              "    .colab-df-convert {\n",
              "      background-color: #E8F0FE;\n",
              "      border: none;\n",
              "      border-radius: 50%;\n",
              "      cursor: pointer;\n",
              "      display: none;\n",
              "      fill: #1967D2;\n",
              "      height: 32px;\n",
              "      padding: 0 0 0 0;\n",
              "      width: 32px;\n",
              "    }\n",
              "\n",
              "    .colab-df-convert:hover {\n",
              "      background-color: #E2EBFA;\n",
              "      box-shadow: 0px 1px 2px rgba(60, 64, 67, 0.3), 0px 1px 3px 1px rgba(60, 64, 67, 0.15);\n",
              "      fill: #174EA6;\n",
              "    }\n",
              "\n",
              "    .colab-df-buttons div {\n",
              "      margin-bottom: 4px;\n",
              "    }\n",
              "\n",
              "    [theme=dark] .colab-df-convert {\n",
              "      background-color: #3B4455;\n",
              "      fill: #D2E3FC;\n",
              "    }\n",
              "\n",
              "    [theme=dark] .colab-df-convert:hover {\n",
              "      background-color: #434B5C;\n",
              "      box-shadow: 0px 1px 3px 1px rgba(0, 0, 0, 0.15);\n",
              "      filter: drop-shadow(0px 1px 2px rgba(0, 0, 0, 0.3));\n",
              "      fill: #FFFFFF;\n",
              "    }\n",
              "  </style>\n",
              "\n",
              "    <script>\n",
              "      const buttonEl =\n",
              "        document.querySelector('#df-b4067edd-9352-4168-999a-dc95be1c38a6 button.colab-df-convert');\n",
              "      buttonEl.style.display =\n",
              "        google.colab.kernel.accessAllowed ? 'block' : 'none';\n",
              "\n",
              "      async function convertToInteractive(key) {\n",
              "        const element = document.querySelector('#df-b4067edd-9352-4168-999a-dc95be1c38a6');\n",
              "        const dataTable =\n",
              "          await google.colab.kernel.invokeFunction('convertToInteractive',\n",
              "                                                    [key], {});\n",
              "        if (!dataTable) return;\n",
              "\n",
              "        const docLinkHtml = 'Like what you see? Visit the ' +\n",
              "          '<a target=\"_blank\" href=https://colab.research.google.com/notebooks/data_table.ipynb>data table notebook</a>'\n",
              "          + ' to learn more about interactive tables.';\n",
              "        element.innerHTML = '';\n",
              "        dataTable['output_type'] = 'display_data';\n",
              "        await google.colab.output.renderOutput(dataTable, element);\n",
              "        const docLink = document.createElement('div');\n",
              "        docLink.innerHTML = docLinkHtml;\n",
              "        element.appendChild(docLink);\n",
              "      }\n",
              "    </script>\n",
              "  </div>\n",
              "\n",
              "\n",
              "<div id=\"df-d011eedc-3427-4969-991f-495de6457d1a\">\n",
              "  <button class=\"colab-df-quickchart\" onclick=\"quickchart('df-d011eedc-3427-4969-991f-495de6457d1a')\"\n",
              "            title=\"Suggest charts\"\n",
              "            style=\"display:none;\">\n",
              "\n",
              "<svg xmlns=\"http://www.w3.org/2000/svg\" height=\"24px\"viewBox=\"0 0 24 24\"\n",
              "     width=\"24px\">\n",
              "    <g>\n",
              "        <path d=\"M19 3H5c-1.1 0-2 .9-2 2v14c0 1.1.9 2 2 2h14c1.1 0 2-.9 2-2V5c0-1.1-.9-2-2-2zM9 17H7v-7h2v7zm4 0h-2V7h2v10zm4 0h-2v-4h2v4z\"/>\n",
              "    </g>\n",
              "</svg>\n",
              "  </button>\n",
              "\n",
              "<style>\n",
              "  .colab-df-quickchart {\n",
              "      --bg-color: #E8F0FE;\n",
              "      --fill-color: #1967D2;\n",
              "      --hover-bg-color: #E2EBFA;\n",
              "      --hover-fill-color: #174EA6;\n",
              "      --disabled-fill-color: #AAA;\n",
              "      --disabled-bg-color: #DDD;\n",
              "  }\n",
              "\n",
              "  [theme=dark] .colab-df-quickchart {\n",
              "      --bg-color: #3B4455;\n",
              "      --fill-color: #D2E3FC;\n",
              "      --hover-bg-color: #434B5C;\n",
              "      --hover-fill-color: #FFFFFF;\n",
              "      --disabled-bg-color: #3B4455;\n",
              "      --disabled-fill-color: #666;\n",
              "  }\n",
              "\n",
              "  .colab-df-quickchart {\n",
              "    background-color: var(--bg-color);\n",
              "    border: none;\n",
              "    border-radius: 50%;\n",
              "    cursor: pointer;\n",
              "    display: none;\n",
              "    fill: var(--fill-color);\n",
              "    height: 32px;\n",
              "    padding: 0;\n",
              "    width: 32px;\n",
              "  }\n",
              "\n",
              "  .colab-df-quickchart:hover {\n",
              "    background-color: var(--hover-bg-color);\n",
              "    box-shadow: 0 1px 2px rgba(60, 64, 67, 0.3), 0 1px 3px 1px rgba(60, 64, 67, 0.15);\n",
              "    fill: var(--button-hover-fill-color);\n",
              "  }\n",
              "\n",
              "  .colab-df-quickchart-complete:disabled,\n",
              "  .colab-df-quickchart-complete:disabled:hover {\n",
              "    background-color: var(--disabled-bg-color);\n",
              "    fill: var(--disabled-fill-color);\n",
              "    box-shadow: none;\n",
              "  }\n",
              "\n",
              "  .colab-df-spinner {\n",
              "    border: 2px solid var(--fill-color);\n",
              "    border-color: transparent;\n",
              "    border-bottom-color: var(--fill-color);\n",
              "    animation:\n",
              "      spin 1s steps(1) infinite;\n",
              "  }\n",
              "\n",
              "  @keyframes spin {\n",
              "    0% {\n",
              "      border-color: transparent;\n",
              "      border-bottom-color: var(--fill-color);\n",
              "      border-left-color: var(--fill-color);\n",
              "    }\n",
              "    20% {\n",
              "      border-color: transparent;\n",
              "      border-left-color: var(--fill-color);\n",
              "      border-top-color: var(--fill-color);\n",
              "    }\n",
              "    30% {\n",
              "      border-color: transparent;\n",
              "      border-left-color: var(--fill-color);\n",
              "      border-top-color: var(--fill-color);\n",
              "      border-right-color: var(--fill-color);\n",
              "    }\n",
              "    40% {\n",
              "      border-color: transparent;\n",
              "      border-right-color: var(--fill-color);\n",
              "      border-top-color: var(--fill-color);\n",
              "    }\n",
              "    60% {\n",
              "      border-color: transparent;\n",
              "      border-right-color: var(--fill-color);\n",
              "    }\n",
              "    80% {\n",
              "      border-color: transparent;\n",
              "      border-right-color: var(--fill-color);\n",
              "      border-bottom-color: var(--fill-color);\n",
              "    }\n",
              "    90% {\n",
              "      border-color: transparent;\n",
              "      border-bottom-color: var(--fill-color);\n",
              "    }\n",
              "  }\n",
              "</style>\n",
              "\n",
              "  <script>\n",
              "    async function quickchart(key) {\n",
              "      const quickchartButtonEl =\n",
              "        document.querySelector('#' + key + ' button');\n",
              "      quickchartButtonEl.disabled = true;  // To prevent multiple clicks.\n",
              "      quickchartButtonEl.classList.add('colab-df-spinner');\n",
              "      try {\n",
              "        const charts = await google.colab.kernel.invokeFunction(\n",
              "            'suggestCharts', [key], {});\n",
              "      } catch (error) {\n",
              "        console.error('Error during call to suggestCharts:', error);\n",
              "      }\n",
              "      quickchartButtonEl.classList.remove('colab-df-spinner');\n",
              "      quickchartButtonEl.classList.add('colab-df-quickchart-complete');\n",
              "    }\n",
              "    (() => {\n",
              "      let quickchartButtonEl =\n",
              "        document.querySelector('#df-d011eedc-3427-4969-991f-495de6457d1a button');\n",
              "      quickchartButtonEl.style.display =\n",
              "        google.colab.kernel.accessAllowed ? 'block' : 'none';\n",
              "    })();\n",
              "  </script>\n",
              "</div>\n",
              "\n",
              "    </div>\n",
              "  </div>\n"
            ],
            "application/vnd.google.colaboratory.intrinsic+json": {
              "type": "dataframe",
              "variable_name": "df",
              "summary": "{\n  \"name\": \"df\",\n  \"rows\": 14999,\n  \"fields\": [\n    {\n      \"column\": \"ID\",\n      \"properties\": {\n        \"dtype\": \"number\",\n        \"std\": 4329,\n        \"min\": 0,\n        \"max\": 14998,\n        \"num_unique_values\": 14999,\n        \"samples\": [\n          6723,\n          6473,\n          4679\n        ],\n        \"semantic_type\": \"\",\n        \"description\": \"\"\n      }\n    },\n    {\n      \"column\": \"label\",\n      \"properties\": {\n        \"dtype\": \"category\",\n        \"num_unique_values\": 2,\n        \"samples\": [\n          \"churned\",\n          \"retained\"\n        ],\n        \"semantic_type\": \"\",\n        \"description\": \"\"\n      }\n    },\n    {\n      \"column\": \"sessions\",\n      \"properties\": {\n        \"dtype\": \"number\",\n        \"std\": 67,\n        \"min\": 0,\n        \"max\": 243,\n        \"num_unique_values\": 244,\n        \"samples\": [\n          64,\n          3\n        ],\n        \"semantic_type\": \"\",\n        \"description\": \"\"\n      }\n    },\n    {\n      \"column\": \"drives\",\n      \"properties\": {\n        \"dtype\": \"number\",\n        \"std\": 55,\n        \"min\": 0,\n        \"max\": 201,\n        \"num_unique_values\": 202,\n        \"samples\": [\n          175,\n          25\n        ],\n        \"semantic_type\": \"\",\n        \"description\": \"\"\n      }\n    },\n    {\n      \"column\": \"total_sessions\",\n      \"properties\": {\n        \"dtype\": \"number\",\n        \"std\": 118.60046256024378,\n        \"min\": 0.2202109438,\n        \"max\": 454.3632037399997,\n        \"num_unique_values\": 14250,\n        \"samples\": [\n          230.7168752,\n          104.6504892\n        ],\n        \"semantic_type\": \"\",\n        \"description\": \"\"\n      }\n    },\n    {\n      \"column\": \"n_days_after_onboarding\",\n      \"properties\": {\n        \"dtype\": \"number\",\n        \"std\": 1008,\n        \"min\": 4,\n        \"max\": 3500,\n        \"num_unique_values\": 3441,\n        \"samples\": [\n          2332,\n          1713\n        ],\n        \"semantic_type\": \"\",\n        \"description\": \"\"\n      }\n    },\n    {\n      \"column\": \"total_navigations_fav1\",\n      \"properties\": {\n        \"dtype\": \"number\",\n        \"std\": 148,\n        \"min\": 0,\n        \"max\": 1236,\n        \"num_unique_values\": 730,\n        \"samples\": [\n          449,\n          266\n        ],\n        \"semantic_type\": \"\",\n        \"description\": \"\"\n      }\n    },\n    {\n      \"column\": \"total_navigations_fav2\",\n      \"properties\": {\n        \"dtype\": \"number\",\n        \"std\": 45,\n        \"min\": 0,\n        \"max\": 415,\n        \"num_unique_values\": 287,\n        \"samples\": [\n          19,\n          170\n        ],\n        \"semantic_type\": \"\",\n        \"description\": \"\"\n      }\n    },\n    {\n      \"column\": \"driven_km_drives\",\n      \"properties\": {\n        \"dtype\": \"number\",\n        \"std\": 2216.0415103771866,\n        \"min\": 60.44125046,\n        \"max\": 8889.7942356,\n        \"num_unique_values\": 14250,\n        \"samples\": [\n          6527.314416,\n          3930.217506\n        ],\n        \"semantic_type\": \"\",\n        \"description\": \"\"\n      }\n    },\n    {\n      \"column\": \"duration_minutes_drives\",\n      \"properties\": {\n        \"dtype\": \"number\",\n        \"std\": 1222.7051669400441,\n        \"min\": 18.28208247,\n        \"max\": 4668.899348999998,\n        \"num_unique_values\": 14250,\n        \"samples\": [\n          1766.913377,\n          1067.84878\n        ],\n        \"semantic_type\": \"\",\n        \"description\": \"\"\n      }\n    },\n    {\n      \"column\": \"activity_days\",\n      \"properties\": {\n        \"dtype\": \"number\",\n        \"std\": 9,\n        \"min\": 0,\n        \"max\": 31,\n        \"num_unique_values\": 32,\n        \"samples\": [\n          3,\n          21\n        ],\n        \"semantic_type\": \"\",\n        \"description\": \"\"\n      }\n    },\n    {\n      \"column\": \"driving_days\",\n      \"properties\": {\n        \"dtype\": \"number\",\n        \"std\": 7,\n        \"min\": 0,\n        \"max\": 30,\n        \"num_unique_values\": 31,\n        \"samples\": [\n          27,\n          16\n        ],\n        \"semantic_type\": \"\",\n        \"description\": \"\"\n      }\n    },\n    {\n      \"column\": \"device\",\n      \"properties\": {\n        \"dtype\": \"category\",\n        \"num_unique_values\": 2,\n        \"samples\": [\n          \"iPhone\",\n          \"Android\"\n        ],\n        \"semantic_type\": \"\",\n        \"description\": \"\"\n      }\n    },\n    {\n      \"column\": \"km_per_driving_day\",\n      \"properties\": {\n        \"dtype\": \"number\",\n        \"std\": 1030.0943842273302,\n        \"min\": 0.0,\n        \"max\": 15420.23411,\n        \"num_unique_values\": 13976,\n        \"samples\": [\n          154.21663766666666,\n          79.46765860869564\n        ],\n        \"semantic_type\": \"\",\n        \"description\": \"\"\n      }\n    },\n    {\n      \"column\": \"session_percent_of_lastmonth\",\n      \"properties\": {\n        \"dtype\": \"number\",\n        \"std\": 0.28691862899063414,\n        \"min\": 0.0,\n        \"max\": 1.5306370651931895,\n        \"num_unique_values\": 14895,\n        \"samples\": [\n          0.6053662761654391,\n          0.019390924930108477\n        ],\n        \"semantic_type\": \"\",\n        \"description\": \"\"\n      }\n    },\n    {\n      \"column\": \"monthly_drives_per_session_ratio\",\n      \"properties\": {\n        \"dtype\": \"number\",\n        \"std\": 0.07729798197046074,\n        \"min\": 0.0,\n        \"max\": 1.0,\n        \"num_unique_values\": 1236,\n        \"samples\": [\n          0.8369565217391305,\n          0.8102189781021898\n        ],\n        \"semantic_type\": \"\",\n        \"description\": \"\"\n      }\n    }\n  ]\n}"
            }
          },
          "metadata": {},
          "execution_count": 43
        }
      ],
      "source": [
        "df.head(10)"
      ]
    },
    {
      "cell_type": "code",
      "execution_count": 43,
      "metadata": {
        "id": "XUyMXCLoLJmz"
      },
      "outputs": [],
      "source": []
    }
  ],
  "metadata": {
    "kernelspec": {
      "display_name": "base",
      "language": "python",
      "name": "python3"
    },
    "language_info": {
      "codemirror_mode": {
        "name": "ipython",
        "version": 3
      },
      "file_extension": ".py",
      "mimetype": "text/x-python",
      "name": "python",
      "nbconvert_exporter": "python",
      "pygments_lexer": "ipython3",
      "version": "3.9.12"
    },
    "colab": {
      "provenance": [],
      "include_colab_link": true
    }
  },
  "nbformat": 4,
  "nbformat_minor": 0
}